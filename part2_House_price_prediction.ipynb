{
 "cells": [
  {
   "cell_type": "markdown",
   "id": "cc38afee",
   "metadata": {},
   "source": [
    "# Regression Problem"
   ]
  },
  {
   "cell_type": "code",
   "execution_count": 58,
   "id": "eced896e",
   "metadata": {},
   "outputs": [],
   "source": [
    "import numpy as np\n",
    "import pandas as pd\n",
    "%matplotlib inline\n",
    "import matplotlib as mpl\n",
    "import matplotlib.pyplot as plt"
   ]
  },
  {
   "cell_type": "code",
   "execution_count": 59,
   "id": "4de4e6c0",
   "metadata": {},
   "outputs": [],
   "source": [
    "import tensorflow as tf\n",
    "from tensorflow import keras"
   ]
  },
  {
   "cell_type": "code",
   "execution_count": 60,
   "id": "0df9beb3",
   "metadata": {},
   "outputs": [],
   "source": [
    "from sklearn.datasets import fetch_california_housing\n",
    "housing = fetch_california_housing()"
   ]
  },
  {
   "cell_type": "code",
   "execution_count": 4,
   "id": "19261841",
   "metadata": {},
   "outputs": [
    {
     "name": "stdout",
     "output_type": "stream",
     "text": [
      "['MedInc', 'HouseAge', 'AveRooms', 'AveBedrms', 'Population', 'AveOccup', 'Latitude', 'Longitude']\n"
     ]
    }
   ],
   "source": [
    "print(housing.feature_names)"
   ]
  },
  {
   "cell_type": "code",
   "execution_count": 61,
   "id": "53a005e3",
   "metadata": {},
   "outputs": [],
   "source": [
    "from sklearn.model_selection import train_test_split\n",
    "X_train_full, X_test, y_train_full, y_test = train_test_split(housing.data, housing.target, random_state=24)\n",
    "X_train, X_valid, y_train, y_valid = train_test_split(X_train_full, y_train_full, random_state=42)"
   ]
  },
  {
   "cell_type": "code",
   "execution_count": 62,
   "id": "7c533b7b",
   "metadata": {},
   "outputs": [],
   "source": [
    "# preprocessing data for ML model, to Standardize our data into mean, variance, \n",
    "from sklearn.preprocessing import StandardScaler\n",
    "scaler = StandardScaler()\n",
    "X_train = scaler.fit_transform(X_train)\n",
    "X_valid = scaler.transform(X_valid)\n",
    "X_test = scaler.transform(X_test)"
   ]
  },
  {
   "cell_type": "code",
   "execution_count": 63,
   "id": "f255686e",
   "metadata": {},
   "outputs": [],
   "source": [
    "#generate same result every time we run the model\n",
    "np.random.seed(42)\n",
    "tf.random.set_seed(42)"
   ]
  },
  {
   "cell_type": "code",
   "execution_count": 12,
   "id": "07a7cee5",
   "metadata": {},
   "outputs": [
    {
     "data": {
      "text/plain": [
       "(8,)"
      ]
     },
     "execution_count": 12,
     "metadata": {},
     "output_type": "execute_result"
    }
   ],
   "source": [
    "X_train.shape[1:]"
   ]
  },
  {
   "cell_type": "code",
   "execution_count": 13,
   "id": "07e1b32b",
   "metadata": {},
   "outputs": [
    {
     "name": "stderr",
     "output_type": "stream",
     "text": [
      "2022-10-08 17:45:19.769723: I tensorflow/core/platform/cpu_feature_guard.cc:151] This TensorFlow binary is optimized with oneAPI Deep Neural Network Library (oneDNN) to use the following CPU instructions in performance-critical operations:  AVX2 FMA\n",
      "To enable them in other operations, rebuild TensorFlow with the appropriate compiler flags.\n"
     ]
    }
   ],
   "source": [
    "#build our network architecture with Sequential API, since our topology is simple\n",
    "#without any activation, since it's an regression problem\n",
    "model = keras.models.Sequential([\n",
    "    keras.layers.Dense(30, activation=\"relu\", input_shape=[8]),\n",
    "    keras.layers.Dense(30, activation=\"relu\"),\n",
    "    keras.layers.Dense(1)\n",
    "]) \n",
    "#keras.layers.Dense(30, activation=\"relu\", input_shape=X_train.shape[1:])"
   ]
  },
  {
   "cell_type": "code",
   "execution_count": 14,
   "id": "56c64dc5",
   "metadata": {},
   "outputs": [
    {
     "name": "stdout",
     "output_type": "stream",
     "text": [
      "Model: \"sequential\"\n",
      "_________________________________________________________________\n",
      " Layer (type)                Output Shape              Param #   \n",
      "=================================================================\n",
      " dense (Dense)               (None, 30)                270       \n",
      "                                                                 \n",
      " dense_1 (Dense)             (None, 30)                930       \n",
      "                                                                 \n",
      " dense_2 (Dense)             (None, 1)                 31        \n",
      "                                                                 \n",
      "=================================================================\n",
      "Total params: 1,231\n",
      "Trainable params: 1,231\n",
      "Non-trainable params: 0\n",
      "_________________________________________________________________\n"
     ]
    }
   ],
   "source": [
    "model.summary()"
   ]
  },
  {
   "cell_type": "code",
   "execution_count": 15,
   "id": "1a914783",
   "metadata": {},
   "outputs": [],
   "source": [
    "model.compile(loss=\"mean_squared_error\",\n",
    "             optimizer=keras.optimizers.SGD(learning_rate=1e-3),\n",
    "             metrics=['mae'])\n",
    "#mae: mean absolute error. difference b/w the predictable value and the actual value\n",
    "#mean_squ_err: it is the squar of the mae"
   ]
  },
  {
   "cell_type": "code",
   "execution_count": 16,
   "id": "ca4a1bef",
   "metadata": {},
   "outputs": [
    {
     "name": "stdout",
     "output_type": "stream",
     "text": [
      "Epoch 1/20\n",
      "363/363 [==============================] - 1s 2ms/step - loss: 1.8517 - mae: 0.9973 - val_loss: 0.7695 - val_mae: 0.6618\n",
      "Epoch 2/20\n",
      "363/363 [==============================] - 1s 2ms/step - loss: 0.7303 - mae: 0.6145 - val_loss: 0.6286 - val_mae: 0.5859\n",
      "Epoch 3/20\n",
      "363/363 [==============================] - 1s 2ms/step - loss: 0.6195 - mae: 0.5717 - val_loss: 0.5872 - val_mae: 0.5604\n",
      "Epoch 4/20\n",
      "363/363 [==============================] - 1s 2ms/step - loss: 0.5845 - mae: 0.5496 - val_loss: 0.5548 - val_mae: 0.5439\n",
      "Epoch 5/20\n",
      "363/363 [==============================] - 1s 2ms/step - loss: 0.5593 - mae: 0.5367 - val_loss: 0.5306 - val_mae: 0.5327\n",
      "Epoch 6/20\n",
      "363/363 [==============================] - 1s 2ms/step - loss: 0.5392 - mae: 0.5268 - val_loss: 0.5107 - val_mae: 0.5184\n",
      "Epoch 7/20\n",
      "363/363 [==============================] - 1s 2ms/step - loss: 0.5237 - mae: 0.5171 - val_loss: 0.4948 - val_mae: 0.5115\n",
      "Epoch 8/20\n",
      "363/363 [==============================] - 1s 2ms/step - loss: 0.5111 - mae: 0.5118 - val_loss: 0.4833 - val_mae: 0.5018\n",
      "Epoch 9/20\n",
      "363/363 [==============================] - 1s 2ms/step - loss: 0.5013 - mae: 0.5052 - val_loss: 0.4730 - val_mae: 0.4982\n",
      "Epoch 10/20\n",
      "363/363 [==============================] - 1s 2ms/step - loss: 0.4928 - mae: 0.5010 - val_loss: 0.4639 - val_mae: 0.4942\n",
      "Epoch 11/20\n",
      "363/363 [==============================] - 1s 2ms/step - loss: 0.4859 - mae: 0.4978 - val_loss: 0.4570 - val_mae: 0.4887\n",
      "Epoch 12/20\n",
      "363/363 [==============================] - 1s 2ms/step - loss: 0.4804 - mae: 0.4950 - val_loss: 0.4507 - val_mae: 0.4863\n",
      "Epoch 13/20\n",
      "363/363 [==============================] - 1s 2ms/step - loss: 0.4752 - mae: 0.4919 - val_loss: 0.4465 - val_mae: 0.4841\n",
      "Epoch 14/20\n",
      "363/363 [==============================] - 1s 2ms/step - loss: 0.4711 - mae: 0.4897 - val_loss: 0.4421 - val_mae: 0.4829\n",
      "Epoch 15/20\n",
      "363/363 [==============================] - 1s 2ms/step - loss: 0.4669 - mae: 0.4879 - val_loss: 0.4385 - val_mae: 0.4800\n",
      "Epoch 16/20\n",
      "363/363 [==============================] - 1s 2ms/step - loss: 0.4630 - mae: 0.4854 - val_loss: 0.4368 - val_mae: 0.4845\n",
      "Epoch 17/20\n",
      "363/363 [==============================] - 1s 2ms/step - loss: 0.4607 - mae: 0.4851 - val_loss: 0.4334 - val_mae: 0.4746\n",
      "Epoch 18/20\n",
      "363/363 [==============================] - 1s 2ms/step - loss: 0.4575 - mae: 0.4827 - val_loss: 0.4292 - val_mae: 0.4755\n",
      "Epoch 19/20\n",
      "363/363 [==============================] - 1s 3ms/step - loss: 0.4547 - mae: 0.4812 - val_loss: 0.4274 - val_mae: 0.4742\n",
      "Epoch 20/20\n",
      "363/363 [==============================] - 1s 2ms/step - loss: 0.4520 - mae: 0.4797 - val_loss: 0.4250 - val_mae: 0.4731\n"
     ]
    }
   ],
   "source": [
    "# keras has weights and biases value in the memory. \n",
    "# So if we re-run this code again, this will not train the data from start\n",
    "#but it will start from last epoch position\n",
    "model_history = model.fit(X_train, y_train, epochs=20, validation_data=(X_valid, y_valid))"
   ]
  },
  {
   "cell_type": "code",
   "execution_count": 17,
   "id": "1bdcd55e",
   "metadata": {},
   "outputs": [
    {
     "name": "stdout",
     "output_type": "stream",
     "text": [
      "162/162 [==============================] - 0s 1ms/step - loss: 0.4488 - mae: 0.4783\n"
     ]
    }
   ],
   "source": [
    "#evaluate performance\n",
    "#after run the epoch serveral times, \n",
    "# if our loss is decreasing, then our hypothesis is correct and model is not converged\n",
    "mae_test = model.evaluate(X_test, y_test)"
   ]
  },
  {
   "cell_type": "code",
   "execution_count": 18,
   "id": "83647093",
   "metadata": {},
   "outputs": [
    {
     "data": {
      "text/plain": [
       "{'loss': [1.8517215251922607,\n",
       "  0.7302682995796204,\n",
       "  0.6195200085639954,\n",
       "  0.5845125913619995,\n",
       "  0.5592675805091858,\n",
       "  0.5392464995384216,\n",
       "  0.5236836671829224,\n",
       "  0.5110926032066345,\n",
       "  0.5012937188148499,\n",
       "  0.49280279874801636,\n",
       "  0.48590537905693054,\n",
       "  0.48038506507873535,\n",
       "  0.47517648339271545,\n",
       "  0.47114434838294983,\n",
       "  0.46694955229759216,\n",
       "  0.46302297711372375,\n",
       "  0.4607113301753998,\n",
       "  0.45752307772636414,\n",
       "  0.45469650626182556,\n",
       "  0.45198193192481995],\n",
       " 'mae': [0.9972531199455261,\n",
       "  0.6144996881484985,\n",
       "  0.5716909766197205,\n",
       "  0.549618661403656,\n",
       "  0.5366626381874084,\n",
       "  0.5267825722694397,\n",
       "  0.5171337723731995,\n",
       "  0.5118051171302795,\n",
       "  0.5052096843719482,\n",
       "  0.5009879469871521,\n",
       "  0.49781784415245056,\n",
       "  0.4950461983680725,\n",
       "  0.4918562173843384,\n",
       "  0.4897323548793793,\n",
       "  0.48791050910949707,\n",
       "  0.48541373014450073,\n",
       "  0.48508933186531067,\n",
       "  0.4827003479003906,\n",
       "  0.4812224209308624,\n",
       "  0.4796876311302185],\n",
       " 'val_loss': [0.7694946527481079,\n",
       "  0.6285924911499023,\n",
       "  0.5871626734733582,\n",
       "  0.55479896068573,\n",
       "  0.5305821895599365,\n",
       "  0.5106629133224487,\n",
       "  0.494829922914505,\n",
       "  0.4833475351333618,\n",
       "  0.47297167778015137,\n",
       "  0.4638601243495941,\n",
       "  0.4569580852985382,\n",
       "  0.4507349729537964,\n",
       "  0.4465225338935852,\n",
       "  0.44211649894714355,\n",
       "  0.43851861357688904,\n",
       "  0.43682020902633667,\n",
       "  0.4334043860435486,\n",
       "  0.429201602935791,\n",
       "  0.4274365305900574,\n",
       "  0.42495501041412354],\n",
       " 'val_mae': [0.6618452072143555,\n",
       "  0.5858908295631409,\n",
       "  0.5603606104850769,\n",
       "  0.5439467430114746,\n",
       "  0.5327080488204956,\n",
       "  0.5183615684509277,\n",
       "  0.5114738345146179,\n",
       "  0.5018081665039062,\n",
       "  0.4981788992881775,\n",
       "  0.49424290657043457,\n",
       "  0.4887089133262634,\n",
       "  0.48634031414985657,\n",
       "  0.4841470718383789,\n",
       "  0.4828944206237793,\n",
       "  0.47998109459877014,\n",
       "  0.4844546318054199,\n",
       "  0.4746183454990387,\n",
       "  0.4754985570907593,\n",
       "  0.47424712777137756,\n",
       "  0.47312289476394653]}"
      ]
     },
     "execution_count": 18,
     "metadata": {},
     "output_type": "execute_result"
    }
   ],
   "source": [
    "model_history.history"
   ]
  },
  {
   "cell_type": "code",
   "execution_count": 19,
   "id": "64e8bbb3",
   "metadata": {},
   "outputs": [
    {
     "data": {
      "image/png": "[encoded data removed]",
      "text/plain": [
       "<Figure size 576x360 with 1 Axes>"
      ]
     },
     "metadata": {
      "needs_background": "light"
     },
     "output_type": "display_data"
    }
   ],
   "source": [
    "pd.DataFrame(model_history.history).plot(figsize=(8,5))\n",
    "plt.grid(True)\n",
    "plt.gca().set_ylim(0,1)\n",
    "\n",
    "# if the plot is plat then we achieve convergence\n",
    "plt.show()"
   ]
  },
  {
   "cell_type": "code",
   "execution_count": 20,
   "id": "e03a9be8",
   "metadata": {},
   "outputs": [],
   "source": [
    "#since we don't have new data, \n",
    "#so we choose randomly the first 3 data in test data to make a prediction\n",
    "X_new = X_test[:3]"
   ]
  },
  {
   "cell_type": "code",
   "execution_count": 21,
   "id": "8f4701a1",
   "metadata": {},
   "outputs": [
    {
     "name": "stdout",
     "output_type": "stream",
     "text": [
      "[[3.0230258 ]\n",
      " [0.99659276]\n",
      " [3.2365978 ]]\n"
     ]
    }
   ],
   "source": [
    "y_pred = model.predict(X_new)\n",
    "print(y_pred)"
   ]
  },
  {
   "cell_type": "code",
   "execution_count": 19,
   "id": "8e3e28ae",
   "metadata": {},
   "outputs": [
    {
     "name": "stdout",
     "output_type": "stream",
     "text": [
      "[2.358 0.857 2.74 ]\n"
     ]
    }
   ],
   "source": [
    "print(y_test[:3])"
   ]
  },
  {
   "cell_type": "markdown",
   "id": "0168d176",
   "metadata": {},
   "source": [
    "# Functional API"
   ]
  },
  {
   "cell_type": "code",
   "execution_count": null,
   "id": "33ccfdfc",
   "metadata": {},
   "outputs": [],
   "source": [
    "# its makes neural to learn the deep layers and patterns"
   ]
  },
  {
   "cell_type": "code",
   "execution_count": 22,
   "id": "46de0479",
   "metadata": {},
   "outputs": [],
   "source": [
    "input_ = keras.layers.Input(shape=X_train.shape[1:])\n",
    "#call(connect) the input layer in hidden1 as function\n",
    "hidden1 = keras.layers.Dense(30, activation=\"relu\")(input_)\n",
    "##hidden1(connect) the input layer in hidden1 as function\n",
    "hidden2 = keras.layers.Dense(30, activation=\"relu\")(hidden1)\n",
    "# here we have connect the hidden2 layer and also connect the input layer \n",
    "#merging the input and the hidden layers\n",
    "concat = keras.layers.concatenate([input_, hidden2])\n",
    "#connect the Concat to the output\n",
    "output = keras.layers.Dense(1)(concat)\n",
    "#last step is to combine all the layers to create our model\n",
    "model = keras.models.Model(inputs=[input_], outputs=[output])\n"
   ]
  },
  {
   "cell_type": "code",
   "execution_count": 23,
   "id": "16841716",
   "metadata": {},
   "outputs": [
    {
     "name": "stdout",
     "output_type": "stream",
     "text": [
      "Model: \"model\"\n",
      "__________________________________________________________________________________________________\n",
      " Layer (type)                   Output Shape         Param #     Connected to                     \n",
      "==================================================================================================\n",
      " input_1 (InputLayer)           [(None, 8)]          0           []                               \n",
      "                                                                                                  \n",
      " dense_3 (Dense)                (None, 30)           270         ['input_1[0][0]']                \n",
      "                                                                                                  \n",
      " dense_4 (Dense)                (None, 30)           930         ['dense_3[0][0]']                \n",
      "                                                                                                  \n",
      " concatenate (Concatenate)      (None, 38)           0           ['input_1[0][0]',                \n",
      "                                                                  'dense_4[0][0]']                \n",
      "                                                                                                  \n",
      " dense_5 (Dense)                (None, 1)            39          ['concatenate[0][0]']            \n",
      "                                                                                                  \n",
      "==================================================================================================\n",
      "Total params: 1,239\n",
      "Trainable params: 1,239\n",
      "Non-trainable params: 0\n",
      "__________________________________________________________________________________________________\n"
     ]
    }
   ],
   "source": [
    "model.summary()"
   ]
  },
  {
   "cell_type": "code",
   "execution_count": 24,
   "id": "71ab038c",
   "metadata": {},
   "outputs": [],
   "source": [
    "model.compile(loss=\"mean_squared_error\",\n",
    "             optimizer=keras.optimizers.SGD(learning_rate=1e-3),\n",
    "             metrics=['mae'])"
   ]
  },
  {
   "cell_type": "code",
   "execution_count": 25,
   "id": "e5e3fa4d",
   "metadata": {},
   "outputs": [
    {
     "name": "stdout",
     "output_type": "stream",
     "text": [
      "Epoch 1/40\n",
      "363/363 [==============================] - 1s 2ms/step - loss: 1.7218 - mae: 0.9087 - val_loss: 0.7573 - val_mae: 0.6277\n",
      "Epoch 2/40\n",
      "363/363 [==============================] - 1s 2ms/step - loss: 0.7183 - mae: 0.6089 - val_loss: 0.6757 - val_mae: 0.6012\n",
      "Epoch 3/40\n",
      "363/363 [==============================] - 1s 2ms/step - loss: 0.6642 - mae: 0.5894 - val_loss: 0.6316 - val_mae: 0.5807\n",
      "Epoch 4/40\n",
      "363/363 [==============================] - 1s 2ms/step - loss: 0.6285 - mae: 0.5720 - val_loss: 0.5993 - val_mae: 0.5668\n",
      "Epoch 5/40\n",
      "363/363 [==============================] - 1s 2ms/step - loss: 0.6018 - mae: 0.5598 - val_loss: 0.5742 - val_mae: 0.5552\n",
      "Epoch 6/40\n",
      "363/363 [==============================] - 1s 2ms/step - loss: 0.5797 - mae: 0.5501 - val_loss: 0.5544 - val_mae: 0.5442\n",
      "Epoch 7/40\n",
      "363/363 [==============================] - 1s 2ms/step - loss: 0.5625 - mae: 0.5410 - val_loss: 0.5391 - val_mae: 0.5373\n",
      "Epoch 8/40\n",
      "363/363 [==============================] - 1s 2ms/step - loss: 0.5488 - mae: 0.5348 - val_loss: 0.5259 - val_mae: 0.5288\n",
      "Epoch 9/40\n",
      "363/363 [==============================] - 1s 2ms/step - loss: 0.5372 - mae: 0.5282 - val_loss: 0.5157 - val_mae: 0.5241\n",
      "Epoch 10/40\n",
      "363/363 [==============================] - 1s 2ms/step - loss: 0.5276 - mae: 0.5241 - val_loss: 0.5050 - val_mae: 0.5193\n",
      "Epoch 11/40\n",
      "363/363 [==============================] - 1s 2ms/step - loss: 0.5194 - mae: 0.5200 - val_loss: 0.4967 - val_mae: 0.5143\n",
      "Epoch 12/40\n",
      "363/363 [==============================] - 1s 2ms/step - loss: 0.5122 - mae: 0.5169 - val_loss: 0.4909 - val_mae: 0.5107\n",
      "Epoch 13/40\n",
      "363/363 [==============================] - 1s 2ms/step - loss: 0.5068 - mae: 0.5126 - val_loss: 0.4842 - val_mae: 0.5077\n",
      "Epoch 14/40\n",
      "363/363 [==============================] - 1s 2ms/step - loss: 0.5007 - mae: 0.5097 - val_loss: 0.4790 - val_mae: 0.5048\n",
      "Epoch 15/40\n",
      "363/363 [==============================] - 1s 2ms/step - loss: 0.4960 - mae: 0.5079 - val_loss: 0.4747 - val_mae: 0.5023\n",
      "Epoch 16/40\n",
      "363/363 [==============================] - 1s 2ms/step - loss: 0.4913 - mae: 0.5041 - val_loss: 0.4714 - val_mae: 0.5046\n",
      "Epoch 17/40\n",
      "363/363 [==============================] - 1s 2ms/step - loss: 0.4877 - mae: 0.5038 - val_loss: 0.4691 - val_mae: 0.4968\n",
      "Epoch 18/40\n",
      "363/363 [==============================] - 1s 2ms/step - loss: 0.4844 - mae: 0.5008 - val_loss: 0.4623 - val_mae: 0.4954\n",
      "Epoch 19/40\n",
      "363/363 [==============================] - 1s 2ms/step - loss: 0.4803 - mae: 0.4992 - val_loss: 0.4597 - val_mae: 0.4944\n",
      "Epoch 20/40\n",
      "363/363 [==============================] - 1s 2ms/step - loss: 0.4769 - mae: 0.4973 - val_loss: 0.4562 - val_mae: 0.4914\n",
      "Epoch 21/40\n",
      "363/363 [==============================] - 1s 2ms/step - loss: 0.4743 - mae: 0.4957 - val_loss: 0.4532 - val_mae: 0.4900\n",
      "Epoch 22/40\n",
      "363/363 [==============================] - 1s 2ms/step - loss: 0.4706 - mae: 0.4940 - val_loss: 0.4530 - val_mae: 0.4896\n",
      "Epoch 23/40\n",
      "363/363 [==============================] - 1s 2ms/step - loss: 0.4698 - mae: 0.4928 - val_loss: 0.4482 - val_mae: 0.4861\n",
      "Epoch 24/40\n",
      "363/363 [==============================] - 1s 2ms/step - loss: 0.4665 - mae: 0.4913 - val_loss: 0.4452 - val_mae: 0.4830\n",
      "Epoch 25/40\n",
      "363/363 [==============================] - 1s 2ms/step - loss: 0.4636 - mae: 0.4890 - val_loss: 0.4455 - val_mae: 0.4826\n",
      "Epoch 26/40\n",
      "363/363 [==============================] - 1s 2ms/step - loss: 0.4616 - mae: 0.4876 - val_loss: 0.4411 - val_mae: 0.4823\n",
      "Epoch 27/40\n",
      "363/363 [==============================] - 1s 2ms/step - loss: 0.4589 - mae: 0.4877 - val_loss: 0.4387 - val_mae: 0.4779\n",
      "Epoch 28/40\n",
      "363/363 [==============================] - 1s 2ms/step - loss: 0.4569 - mae: 0.4844 - val_loss: 0.4371 - val_mae: 0.4794\n",
      "Epoch 29/40\n",
      "363/363 [==============================] - 1s 2ms/step - loss: 0.4543 - mae: 0.4844 - val_loss: 0.4347 - val_mae: 0.4783\n",
      "Epoch 30/40\n",
      "363/363 [==============================] - 1s 2ms/step - loss: 0.4529 - mae: 0.4825 - val_loss: 0.4322 - val_mae: 0.4764\n",
      "Epoch 31/40\n",
      "363/363 [==============================] - 1s 2ms/step - loss: 0.4503 - mae: 0.4813 - val_loss: 0.4339 - val_mae: 0.4747\n",
      "Epoch 32/40\n",
      "363/363 [==============================] - 1s 3ms/step - loss: 0.4489 - mae: 0.4796 - val_loss: 0.4289 - val_mae: 0.4758\n",
      "Epoch 33/40\n",
      "363/363 [==============================] - 1s 3ms/step - loss: 0.4460 - mae: 0.4794 - val_loss: 0.4269 - val_mae: 0.4735\n",
      "Epoch 34/40\n",
      "363/363 [==============================] - 1s 3ms/step - loss: 0.4447 - mae: 0.4775 - val_loss: 0.4255 - val_mae: 0.4723\n",
      "Epoch 35/40\n",
      "363/363 [==============================] - 1s 2ms/step - loss: 0.4428 - mae: 0.4763 - val_loss: 0.4261 - val_mae: 0.4729\n",
      "Epoch 36/40\n",
      "363/363 [==============================] - 1s 2ms/step - loss: 0.4405 - mae: 0.4759 - val_loss: 0.4227 - val_mae: 0.4698\n",
      "Epoch 37/40\n",
      "363/363 [==============================] - 1s 2ms/step - loss: 0.4391 - mae: 0.4743 - val_loss: 0.4209 - val_mae: 0.4686\n",
      "Epoch 38/40\n",
      "363/363 [==============================] - 1s 3ms/step - loss: 0.4373 - mae: 0.4723 - val_loss: 0.4201 - val_mae: 0.4712\n",
      "Epoch 39/40\n",
      "363/363 [==============================] - 1s 3ms/step - loss: 0.4357 - mae: 0.4724 - val_loss: 0.4185 - val_mae: 0.4697\n",
      "Epoch 40/40\n",
      "363/363 [==============================] - 1s 2ms/step - loss: 0.4339 - mae: 0.4714 - val_loss: 0.4161 - val_mae: 0.4665\n"
     ]
    }
   ],
   "source": [
    "model_history = model.fit(X_train, y_train, epochs=40, validation_data=(X_valid,y_valid))"
   ]
  },
  {
   "cell_type": "code",
   "execution_count": 26,
   "id": "a4b1b315",
   "metadata": {},
   "outputs": [
    {
     "name": "stdout",
     "output_type": "stream",
     "text": [
      "162/162 [==============================] - 0s 1ms/step - loss: 0.4375 - mae: 0.4721\n"
     ]
    }
   ],
   "source": [
    "mae_test = model.evaluate(X_test, y_test)"
   ]
  },
  {
   "cell_type": "code",
   "execution_count": 27,
   "id": "f3e03c32",
   "metadata": {},
   "outputs": [
    {
     "data": {
      "text/plain": [
       "{'loss': [1.7217649221420288,\n",
       "  0.7183418869972229,\n",
       "  0.6642175912857056,\n",
       "  0.628474235534668,\n",
       "  0.6017583012580872,\n",
       "  0.5797207951545715,\n",
       "  0.562491774559021,\n",
       "  0.5488176345825195,\n",
       "  0.5371748208999634,\n",
       "  0.5275734066963196,\n",
       "  0.5193581581115723,\n",
       "  0.5121734142303467,\n",
       "  0.5067756772041321,\n",
       "  0.5007297992706299,\n",
       "  0.49597057700157166,\n",
       "  0.4912918210029602,\n",
       "  0.4877164363861084,\n",
       "  0.48437803983688354,\n",
       "  0.48033812642097473,\n",
       "  0.47691410779953003,\n",
       "  0.47430577874183655,\n",
       "  0.47063636779785156,\n",
       "  0.46980708837509155,\n",
       "  0.46646353602409363,\n",
       "  0.4636147618293762,\n",
       "  0.46162235736846924,\n",
       "  0.4588898718357086,\n",
       "  0.4569171369075775,\n",
       "  0.4543204605579376,\n",
       "  0.45290032029151917,\n",
       "  0.4502711296081543,\n",
       "  0.44892972707748413,\n",
       "  0.446049302816391,\n",
       "  0.44472479820251465,\n",
       "  0.44283562898635864,\n",
       "  0.44047191739082336,\n",
       "  0.43907231092453003,\n",
       "  0.4373481869697571,\n",
       "  0.4357129633426666,\n",
       "  0.4339211583137512],\n",
       " 'mae': [0.9086699485778809,\n",
       "  0.6089146733283997,\n",
       "  0.5893732309341431,\n",
       "  0.5719998478889465,\n",
       "  0.5598165988922119,\n",
       "  0.5500556826591492,\n",
       "  0.5410128235816956,\n",
       "  0.5348408818244934,\n",
       "  0.5282118320465088,\n",
       "  0.5241332650184631,\n",
       "  0.520031750202179,\n",
       "  0.5168516039848328,\n",
       "  0.5125593543052673,\n",
       "  0.5096879005432129,\n",
       "  0.5079361200332642,\n",
       "  0.5040883421897888,\n",
       "  0.5038244724273682,\n",
       "  0.5008099675178528,\n",
       "  0.49923962354660034,\n",
       "  0.4973403513431549,\n",
       "  0.49570491909980774,\n",
       "  0.4939700961112976,\n",
       "  0.49281466007232666,\n",
       "  0.49128061532974243,\n",
       "  0.48896467685699463,\n",
       "  0.48758062720298767,\n",
       "  0.4876806437969208,\n",
       "  0.48441213369369507,\n",
       "  0.4843652546405792,\n",
       "  0.48246145248413086,\n",
       "  0.4812535047531128,\n",
       "  0.47963401675224304,\n",
       "  0.47944992780685425,\n",
       "  0.47752729058265686,\n",
       "  0.4763386845588684,\n",
       "  0.47589975595474243,\n",
       "  0.4743044972419739,\n",
       "  0.47228148579597473,\n",
       "  0.47236016392707825,\n",
       "  0.4714035093784332],\n",
       " 'val_loss': [0.7573146820068359,\n",
       "  0.6757073402404785,\n",
       "  0.631577730178833,\n",
       "  0.5993476510047913,\n",
       "  0.5742349624633789,\n",
       "  0.5543819069862366,\n",
       "  0.5391254425048828,\n",
       "  0.5258714556694031,\n",
       "  0.5157448649406433,\n",
       "  0.5050179362297058,\n",
       "  0.4966915249824524,\n",
       "  0.49087539315223694,\n",
       "  0.484188437461853,\n",
       "  0.47898298501968384,\n",
       "  0.474714994430542,\n",
       "  0.47139811515808105,\n",
       "  0.4690752923488617,\n",
       "  0.46225234866142273,\n",
       "  0.4597393274307251,\n",
       "  0.45619818568229675,\n",
       "  0.45316505432128906,\n",
       "  0.4530394375324249,\n",
       "  0.4482148289680481,\n",
       "  0.44516417384147644,\n",
       "  0.44547536969184875,\n",
       "  0.4410724937915802,\n",
       "  0.4386843144893646,\n",
       "  0.4370846152305603,\n",
       "  0.43474793434143066,\n",
       "  0.4322311282157898,\n",
       "  0.4338579773902893,\n",
       "  0.42886003851890564,\n",
       "  0.42694252729415894,\n",
       "  0.4255264401435852,\n",
       "  0.4261384904384613,\n",
       "  0.42273175716400146,\n",
       "  0.420903742313385,\n",
       "  0.4200769066810608,\n",
       "  0.41846325993537903,\n",
       "  0.41611412167549133],\n",
       " 'val_mae': [0.6276537179946899,\n",
       "  0.6012474298477173,\n",
       "  0.5807327032089233,\n",
       "  0.5667580366134644,\n",
       "  0.5552099347114563,\n",
       "  0.5442425608634949,\n",
       "  0.5372698307037354,\n",
       "  0.5288340449333191,\n",
       "  0.5240606665611267,\n",
       "  0.5193186402320862,\n",
       "  0.5143226385116577,\n",
       "  0.5107199549674988,\n",
       "  0.5076568126678467,\n",
       "  0.5048209428787231,\n",
       "  0.5023400187492371,\n",
       "  0.5045524835586548,\n",
       "  0.4967515468597412,\n",
       "  0.49538367986679077,\n",
       "  0.4944410026073456,\n",
       "  0.49136388301849365,\n",
       "  0.4900432527065277,\n",
       "  0.4896089434623718,\n",
       "  0.48612987995147705,\n",
       "  0.48303279280662537,\n",
       "  0.48261508345603943,\n",
       "  0.48234906792640686,\n",
       "  0.4779129922389984,\n",
       "  0.47935575246810913,\n",
       "  0.47828277945518494,\n",
       "  0.4763897657394409,\n",
       "  0.4746885597705841,\n",
       "  0.4757704734802246,\n",
       "  0.4735431969165802,\n",
       "  0.472272664308548,\n",
       "  0.4728808104991913,\n",
       "  0.4698139727115631,\n",
       "  0.4686446785926819,\n",
       "  0.4711732268333435,\n",
       "  0.4697030186653137,\n",
       "  0.4664747714996338]}"
      ]
     },
     "execution_count": 27,
     "metadata": {},
     "output_type": "execute_result"
    }
   ],
   "source": [
    "model_history.history"
   ]
  },
  {
   "cell_type": "code",
   "execution_count": 28,
   "id": "cffdc9da",
   "metadata": {},
   "outputs": [
    {
     "data": {
      "image/png": "[encoded data removed]",
      "text/plain": [
       "<Figure size 576x360 with 1 Axes>"
      ]
     },
     "metadata": {
      "needs_background": "light"
     },
     "output_type": "display_data"
    }
   ],
   "source": [
    "pd.DataFrame(model_history.history).plot(figsize=(8,5))\n",
    "plt.grid(True)\n",
    "plt.gca()\n",
    "plt.gca().set_ylim(0, 1)\n",
    "\n",
    "plt.show()"
   ]
  },
  {
   "cell_type": "markdown",
   "id": "d4a83447",
   "metadata": {},
   "source": [
    "# Saving and Restoring"
   ]
  },
  {
   "cell_type": "code",
   "execution_count": 30,
   "id": "7069e272",
   "metadata": {},
   "outputs": [],
   "source": [
    "#current directory working, save in h5 format\n",
    "model.save(\"my_func_model.h5\")"
   ]
  },
  {
   "cell_type": "code",
   "execution_count": 31,
   "id": "9234294f",
   "metadata": {},
   "outputs": [
    {
     "data": {
      "text/plain": [
       "'/Users/apple/Udemy_works/Artificial_Neural_Networks_with_Py_and_R'"
      ]
     },
     "execution_count": 31,
     "metadata": {},
     "output_type": "execute_result"
    }
   ],
   "source": [
    "# to see the working directory\n",
    "%pwd"
   ]
  },
  {
   "cell_type": "code",
   "execution_count": null,
   "id": "5bfda45d",
   "metadata": {},
   "outputs": [],
   "source": [
    "# to change directory where saving model\n",
    "%cd /Users/apple/Udemy_works/Artificial_Neural_Networks_with_Py_and_R"
   ]
  },
  {
   "cell_type": "code",
   "execution_count": 32,
   "id": "c01913c0",
   "metadata": {},
   "outputs": [],
   "source": [
    "# delete model variable\n",
    "del model"
   ]
  },
  {
   "cell_type": "code",
   "execution_count": 11,
   "id": "a22e51c1",
   "metadata": {},
   "outputs": [],
   "source": [
    "# clear session of keras\n",
    "keras.backend.clear_session()"
   ]
  },
  {
   "cell_type": "code",
   "execution_count": 43,
   "id": "dfcb3633",
   "metadata": {},
   "outputs": [],
   "source": [
    "# load the model\n",
    "model = keras.models.load_model(\"my_func_model.h5\")"
   ]
  },
  {
   "cell_type": "code",
   "execution_count": 44,
   "id": "a26e6cf2",
   "metadata": {},
   "outputs": [
    {
     "name": "stdout",
     "output_type": "stream",
     "text": [
      "Model: \"model\"\n",
      "__________________________________________________________________________________________________\n",
      " Layer (type)                   Output Shape         Param #     Connected to                     \n",
      "==================================================================================================\n",
      " input_1 (InputLayer)           [(None, 8)]          0           []                               \n",
      "                                                                                                  \n",
      " dense_3 (Dense)                (None, 30)           270         ['input_1[0][0]']                \n",
      "                                                                                                  \n",
      " dense_4 (Dense)                (None, 30)           930         ['dense_3[0][0]']                \n",
      "                                                                                                  \n",
      " concatenate (Concatenate)      (None, 38)           0           ['input_1[0][0]',                \n",
      "                                                                  'dense_4[0][0]']                \n",
      "                                                                                                  \n",
      " dense_5 (Dense)                (None, 1)            39          ['concatenate[0][0]']            \n",
      "                                                                                                  \n",
      "==================================================================================================\n",
      "Total params: 1,239\n",
      "Trainable params: 1,239\n",
      "Non-trainable params: 0\n",
      "__________________________________________________________________________________________________\n"
     ]
    }
   ],
   "source": [
    "model.summary()"
   ]
  },
  {
   "cell_type": "code",
   "execution_count": 14,
   "id": "d598fb65",
   "metadata": {},
   "outputs": [
    {
     "ename": "NameError",
     "evalue": "name 'X_new' is not defined",
     "output_type": "error",
     "traceback": [
      "\u001b[0;31m---------------------------------------------------------------------------\u001b[0m",
      "\u001b[0;31mNameError\u001b[0m                                 Traceback (most recent call last)",
      "\u001b[0;32m/var/folders/58/j_8hz7px0l30bjvcrr05krz00000gn/T/ipykernel_2489/973257571.py\u001b[0m in \u001b[0;36m<module>\u001b[0;34m\u001b[0m\n\u001b[0;32m----> 1\u001b[0;31m \u001b[0my_pred\u001b[0m \u001b[0;34m=\u001b[0m \u001b[0mmodel\u001b[0m\u001b[0;34m.\u001b[0m\u001b[0mpredict\u001b[0m\u001b[0;34m(\u001b[0m\u001b[0mX_new\u001b[0m\u001b[0;34m)\u001b[0m\u001b[0;34m\u001b[0m\u001b[0;34m\u001b[0m\u001b[0m\n\u001b[0m\u001b[1;32m      2\u001b[0m \u001b[0mprint\u001b[0m\u001b[0;34m(\u001b[0m\u001b[0my_pred\u001b[0m\u001b[0;34m)\u001b[0m\u001b[0;34m\u001b[0m\u001b[0;34m\u001b[0m\u001b[0m\n",
      "\u001b[0;31mNameError\u001b[0m: name 'X_new' is not defined"
     ]
    }
   ],
   "source": [
    "y_pred = model.predict(X_new)\n",
    "print(y_pred)"
   ]
  },
  {
   "cell_type": "markdown",
   "id": "ddade433",
   "metadata": {},
   "source": [
    "# using Callbacks during Trianing"
   ]
  },
  {
   "cell_type": "code",
   "execution_count": 45,
   "id": "36c1aa9a",
   "metadata": {},
   "outputs": [],
   "source": [
    "#callbacks is a checkpoint at each epoch.\n",
    "keras.backend.clear_session()\n",
    "np.random.seed(42)\n",
    "tf.random.set_seed(42)"
   ]
  },
  {
   "cell_type": "code",
   "execution_count": 46,
   "id": "2c2cb9c5",
   "metadata": {},
   "outputs": [],
   "source": [
    "model = keras.models.Sequential([\n",
    "    keras.layers.Dense(30, activation=\"relu\", input_shape=[8]),\n",
    "    keras.layers.Dense(30, activation=\"relu\"),\n",
    "    keras.layers.Dense(1)\n",
    "])"
   ]
  },
  {
   "cell_type": "code",
   "execution_count": 47,
   "id": "2815ff89",
   "metadata": {},
   "outputs": [],
   "source": [
    "model.compile(loss=\"mse\", optimizer=keras.optimizers.SGD(learning_rate=1e-3))"
   ]
  },
  {
   "cell_type": "code",
   "execution_count": 18,
   "id": "831bcaac",
   "metadata": {},
   "outputs": [],
   "source": [
    "# save each epoch as Model.epoch(two digits).h5\n",
    "checkpoint_cb = keras.callbacks.ModelCheckpoint(\"Model-{epoch:02d}.h5\")"
   ]
  },
  {
   "cell_type": "code",
   "execution_count": 34,
   "id": "650616fc",
   "metadata": {},
   "outputs": [
    {
     "name": "stdout",
     "output_type": "stream",
     "text": [
      "Epoch 1/10\n",
      "363/363 [==============================] - 1s 2ms/step - loss: 0.4859 - val_loss: 0.4575\n",
      "Epoch 2/10\n",
      "363/363 [==============================] - 1s 2ms/step - loss: 0.4800 - val_loss: 0.4509\n",
      "Epoch 3/10\n",
      "363/363 [==============================] - 1s 2ms/step - loss: 0.4750 - val_loss: 0.4468\n",
      "Epoch 4/10\n",
      "363/363 [==============================] - 1s 2ms/step - loss: 0.4707 - val_loss: 0.4432\n",
      "Epoch 5/10\n",
      "363/363 [==============================] - 1s 2ms/step - loss: 0.4672 - val_loss: 0.4391\n",
      "Epoch 6/10\n",
      "363/363 [==============================] - 1s 3ms/step - loss: 0.4634 - val_loss: 0.4354\n",
      "Epoch 7/10\n",
      "363/363 [==============================] - 1s 3ms/step - loss: 0.4600 - val_loss: 0.4316\n",
      "Epoch 8/10\n",
      "363/363 [==============================] - 1s 4ms/step - loss: 0.4574 - val_loss: 0.4311\n",
      "Epoch 9/10\n",
      "363/363 [==============================] - 1s 2ms/step - loss: 0.4549 - val_loss: 0.4279\n",
      "Epoch 10/10\n",
      "363/363 [==============================] - 1s 2ms/step - loss: 0.4521 - val_loss: 0.4248\n"
     ]
    }
   ],
   "source": [
    "history = model.fit(X_train, y_train, epochs=10,\n",
    "                   validation_data=(X_valid, y_valid),\n",
    "                   callbacks=[checkpoint_cb])"
   ]
  },
  {
   "cell_type": "code",
   "execution_count": 20,
   "id": "1284a16f",
   "metadata": {},
   "outputs": [],
   "source": [
    "del model\n",
    "keras.backend.clear_session()"
   ]
  },
  {
   "cell_type": "code",
   "execution_count": 48,
   "id": "9acafc49",
   "metadata": {},
   "outputs": [],
   "source": [
    "model = keras.models.load_model(\"Model-10.h5\")"
   ]
  },
  {
   "cell_type": "code",
   "execution_count": 49,
   "id": "fbd251b3",
   "metadata": {},
   "outputs": [
    {
     "name": "stdout",
     "output_type": "stream",
     "text": [
      "162/162 [==============================] - 0s 1ms/step - loss: 0.4481\n"
     ]
    }
   ],
   "source": [
    "mse_test = model.evaluate(X_test, y_test)"
   ]
  },
  {
   "cell_type": "markdown",
   "id": "6203addf",
   "metadata": {},
   "source": [
    "# Save Best Model Only"
   ]
  },
  {
   "cell_type": "code",
   "execution_count": 50,
   "id": "5496ccba",
   "metadata": {},
   "outputs": [],
   "source": [
    "del model\n",
    "keras.backend.clear_session()"
   ]
  },
  {
   "cell_type": "code",
   "execution_count": 51,
   "id": "a79cefbe",
   "metadata": {},
   "outputs": [],
   "source": [
    "model = keras.models.Sequential([\n",
    "    keras.layers.Dense(30, activation=\"relu\", input_shape=[8]),\n",
    "    keras.layers.Dense(30, activation=\"relu\"),\n",
    "    keras.layers.Dense(1)\n",
    "])"
   ]
  },
  {
   "cell_type": "code",
   "execution_count": 52,
   "id": "3a2efddc",
   "metadata": {},
   "outputs": [],
   "source": [
    "model.compile(loss=\"mse\", optimizer=keras.optimizers.SGD(learning_rate=1e-3))"
   ]
  },
  {
   "cell_type": "code",
   "execution_count": 59,
   "id": "4b8f618f",
   "metadata": {},
   "outputs": [],
   "source": [
    "# we don't need to save all epoch, so we can save only the best value of training\n",
    "checkpoint_cb = keras.callbacks.ModelCheckpoint(\"best_Model.h5\", save_best_only=True)"
   ]
  },
  {
   "cell_type": "code",
   "execution_count": 60,
   "id": "e043c527",
   "metadata": {},
   "outputs": [
    {
     "name": "stdout",
     "output_type": "stream",
     "text": [
      "Epoch 1/10\n",
      "363/363 [==============================] - 1s 2ms/step - loss: 0.4257 - val_loss: 0.4084\n",
      "Epoch 2/10\n",
      "363/363 [==============================] - 1s 2ms/step - loss: 0.4242 - val_loss: 0.4052\n",
      "Epoch 3/10\n",
      "363/363 [==============================] - 1s 2ms/step - loss: 0.4224 - val_loss: 0.4040\n",
      "Epoch 4/10\n",
      "363/363 [==============================] - 1s 2ms/step - loss: 0.4210 - val_loss: 0.4030\n",
      "Epoch 5/10\n",
      "363/363 [==============================] - 1s 2ms/step - loss: 0.4194 - val_loss: 0.4024\n",
      "Epoch 6/10\n",
      "363/363 [==============================] - 1s 2ms/step - loss: 0.4181 - val_loss: 0.3999\n",
      "Epoch 7/10\n",
      "363/363 [==============================] - 1s 2ms/step - loss: 0.4164 - val_loss: 0.3999\n",
      "Epoch 8/10\n",
      "363/363 [==============================] - 1s 2ms/step - loss: 0.4151 - val_loss: 0.3989\n",
      "Epoch 9/10\n",
      "363/363 [==============================] - 1s 2ms/step - loss: 0.4141 - val_loss: 0.3976\n",
      "Epoch 10/10\n",
      "363/363 [==============================] - 1s 2ms/step - loss: 0.4127 - val_loss: 0.3958\n"
     ]
    }
   ],
   "source": [
    "history = model.fit(X_train, y_train, epochs=10,\n",
    "                   validation_data=(X_valid, y_valid),\n",
    "                   callbacks=[checkpoint_cb])"
   ]
  },
  {
   "cell_type": "code",
   "execution_count": 64,
   "id": "1727da0b",
   "metadata": {},
   "outputs": [
    {
     "name": "stdout",
     "output_type": "stream",
     "text": [
      "162/162 [==============================] - 0s 1ms/step - loss: 0.4162\n"
     ]
    }
   ],
   "source": [
    "# rollback to best mdoel\n",
    "model = keras.models.load_model(\"best_Model.h5\")\n",
    "mse_test = model.evaluate(X_test, y_test)"
   ]
  },
  {
   "cell_type": "markdown",
   "id": "b289b378",
   "metadata": {},
   "source": [
    "# Save Best Model Only using early Stopping and Restore weight"
   ]
  },
  {
   "cell_type": "code",
   "execution_count": 68,
   "id": "6c2632ab",
   "metadata": {},
   "outputs": [],
   "source": [
    "del model\n",
    "keras.backend.clear_session()"
   ]
  },
  {
   "cell_type": "code",
   "execution_count": 69,
   "id": "a561a115",
   "metadata": {},
   "outputs": [],
   "source": [
    "model = keras.models.Sequential([\n",
    "    keras.layers.Dense(30, activation=\"relu\", input_shape=[8]),\n",
    "    keras.layers.Dense(30, activation=\"relu\"),\n",
    "    keras.layers.Dense(1)\n",
    "])"
   ]
  },
  {
   "cell_type": "code",
   "execution_count": 70,
   "id": "1ceb3371",
   "metadata": {},
   "outputs": [],
   "source": [
    "model.compile(loss=\"mse\", optimizer=keras.optimizers.SGD(learning_rate=1e-3))"
   ]
  },
  {
   "cell_type": "code",
   "execution_count": 71,
   "id": "ad28c2f5",
   "metadata": {},
   "outputs": [],
   "source": [
    "# eraly Stopping when the training accuracy is not improving then use our so far saving weight\n",
    "checkpoint_cb = keras.callbacks.ModelCheckpoint(\"early_stop_model.h5\", save_best_only=True)"
   ]
  },
  {
   "cell_type": "code",
   "execution_count": 74,
   "id": "f27b380c",
   "metadata": {},
   "outputs": [],
   "source": [
    "# patience Number of epochs with no improvement after which training will be stopped\n",
    "# and restore of best weight so far saved\n",
    "early_stopping_cb = keras.callbacks.EarlyStopping(patience=2,\n",
    "                                                 restore_best_weights=True)"
   ]
  },
  {
   "cell_type": "code",
   "execution_count": 75,
   "id": "f708b496",
   "metadata": {},
   "outputs": [
    {
     "name": "stdout",
     "output_type": "stream",
     "text": [
      "Epoch 1/200\n",
      "363/363 [==============================] - 1s 2ms/step - loss: 0.3151 - val_loss: 0.3174\n",
      "Epoch 2/200\n",
      "363/363 [==============================] - 1s 2ms/step - loss: 0.3154 - val_loss: 0.3155\n",
      "Epoch 3/200\n",
      "363/363 [==============================] - 1s 2ms/step - loss: 0.3144 - val_loss: 0.3155\n",
      "Epoch 4/200\n",
      "363/363 [==============================] - 1s 2ms/step - loss: 0.3147 - val_loss: 0.3150\n",
      "Epoch 5/200\n",
      "363/363 [==============================] - 1s 2ms/step - loss: 0.3137 - val_loss: 0.3179\n",
      "Epoch 6/200\n",
      "363/363 [==============================] - 1s 2ms/step - loss: 0.3139 - val_loss: 0.3144\n",
      "Epoch 7/200\n",
      "363/363 [==============================] - 1s 2ms/step - loss: 0.3136 - val_loss: 0.3163\n",
      "Epoch 8/200\n",
      "363/363 [==============================] - 1s 2ms/step - loss: 0.3132 - val_loss: 0.3149\n"
     ]
    }
   ],
   "source": [
    "history = model.fit(X_train, y_train, epochs=200,\n",
    "                   validation_data=(X_valid, y_valid),\n",
    "                   callbacks=[checkpoint_cb, early_stopping_cb])"
   ]
  },
  {
   "cell_type": "code",
   "execution_count": 76,
   "id": "b9b8f130",
   "metadata": {},
   "outputs": [
    {
     "name": "stdout",
     "output_type": "stream",
     "text": [
      "162/162 [==============================] - 0s 2ms/step - loss: 0.3308\n"
     ]
    }
   ],
   "source": [
    "model = keras.models.load_model(\"early_stop_model.h5\")\n",
    "mse_test = model.evaluate(X_test, y_test)"
   ]
  },
  {
   "cell_type": "markdown",
   "id": "648696d9",
   "metadata": {},
   "source": [
    "# Data importing and preprocessing"
   ]
  },
  {
   "cell_type": "code",
   "execution_count": 2,
   "id": "d110472e",
   "metadata": {},
   "outputs": [
    {
     "data": {
      "text/plain": [
       "'/Users/apple/Udemy_works/Artificial_Neural_Networks_with_Py_and_R'"
      ]
     },
     "execution_count": 2,
     "metadata": {},
     "output_type": "execute_result"
    }
   ],
   "source": [
    "pwd"
   ]
  },
  {
   "cell_type": "code",
   "execution_count": 31,
   "id": "375488be",
   "metadata": {},
   "outputs": [],
   "source": [
    "import numpy as np\n",
    "import pandas as pd\n",
    "import seaborn as sns"
   ]
  },
  {
   "cell_type": "code",
   "execution_count": 32,
   "id": "f41c4b03",
   "metadata": {},
   "outputs": [],
   "source": [
    "df = pd.read_csv('House_Price.csv', header=0)"
   ]
  },
  {
   "cell_type": "code",
   "execution_count": 5,
   "id": "b21b86f6",
   "metadata": {},
   "outputs": [
    {
     "data": {
      "text/html": [
       "<div>\n",
       "<style scoped>\n",
       "    .dataframe tbody tr th:only-of-type {\n",
       "        vertical-align: middle;\n",
       "    }\n",
       "\n",
       "    .dataframe tbody tr th {\n",
       "        vertical-align: top;\n",
       "    }\n",
       "\n",
       "    .dataframe thead th {\n",
       "        text-align: right;\n",
       "    }\n",
       "</style>\n",
       "<table border=\"1\" class=\"dataframe\">\n",
       "  <thead>\n",
       "    <tr style=\"text-align: right;\">\n",
       "      <th></th>\n",
       "      <th>price</th>\n",
       "      <th>crime_rate</th>\n",
       "      <th>resid_area</th>\n",
       "      <th>air_qual</th>\n",
       "      <th>room_num</th>\n",
       "      <th>age</th>\n",
       "      <th>dist1</th>\n",
       "      <th>dist2</th>\n",
       "      <th>dist3</th>\n",
       "      <th>dist4</th>\n",
       "      <th>teachers</th>\n",
       "      <th>poor_prop</th>\n",
       "      <th>airport</th>\n",
       "      <th>n_hos_beds</th>\n",
       "      <th>n_hot_rooms</th>\n",
       "      <th>waterbody</th>\n",
       "      <th>rainfall</th>\n",
       "      <th>bus_ter</th>\n",
       "      <th>parks</th>\n",
       "    </tr>\n",
       "  </thead>\n",
       "  <tbody>\n",
       "    <tr>\n",
       "      <th>0</th>\n",
       "      <td>24.0</td>\n",
       "      <td>0.00632</td>\n",
       "      <td>32.31</td>\n",
       "      <td>0.538</td>\n",
       "      <td>6.575</td>\n",
       "      <td>65.2</td>\n",
       "      <td>4.35</td>\n",
       "      <td>3.81</td>\n",
       "      <td>4.18</td>\n",
       "      <td>4.01</td>\n",
       "      <td>24.7</td>\n",
       "      <td>4.98</td>\n",
       "      <td>YES</td>\n",
       "      <td>5.480</td>\n",
       "      <td>11.1920</td>\n",
       "      <td>River</td>\n",
       "      <td>23</td>\n",
       "      <td>YES</td>\n",
       "      <td>0.049347</td>\n",
       "    </tr>\n",
       "    <tr>\n",
       "      <th>1</th>\n",
       "      <td>21.6</td>\n",
       "      <td>0.02731</td>\n",
       "      <td>37.07</td>\n",
       "      <td>0.469</td>\n",
       "      <td>6.421</td>\n",
       "      <td>78.9</td>\n",
       "      <td>4.99</td>\n",
       "      <td>4.70</td>\n",
       "      <td>5.12</td>\n",
       "      <td>5.06</td>\n",
       "      <td>22.2</td>\n",
       "      <td>9.14</td>\n",
       "      <td>NO</td>\n",
       "      <td>7.332</td>\n",
       "      <td>12.1728</td>\n",
       "      <td>Lake</td>\n",
       "      <td>42</td>\n",
       "      <td>YES</td>\n",
       "      <td>0.046146</td>\n",
       "    </tr>\n",
       "    <tr>\n",
       "      <th>2</th>\n",
       "      <td>34.7</td>\n",
       "      <td>0.02729</td>\n",
       "      <td>37.07</td>\n",
       "      <td>0.469</td>\n",
       "      <td>7.185</td>\n",
       "      <td>61.1</td>\n",
       "      <td>5.03</td>\n",
       "      <td>4.86</td>\n",
       "      <td>5.01</td>\n",
       "      <td>4.97</td>\n",
       "      <td>22.2</td>\n",
       "      <td>4.03</td>\n",
       "      <td>NO</td>\n",
       "      <td>7.394</td>\n",
       "      <td>101.1200</td>\n",
       "      <td>None</td>\n",
       "      <td>38</td>\n",
       "      <td>YES</td>\n",
       "      <td>0.045764</td>\n",
       "    </tr>\n",
       "    <tr>\n",
       "      <th>3</th>\n",
       "      <td>33.4</td>\n",
       "      <td>0.03237</td>\n",
       "      <td>32.18</td>\n",
       "      <td>0.458</td>\n",
       "      <td>6.998</td>\n",
       "      <td>45.8</td>\n",
       "      <td>6.21</td>\n",
       "      <td>5.93</td>\n",
       "      <td>6.16</td>\n",
       "      <td>5.96</td>\n",
       "      <td>21.3</td>\n",
       "      <td>2.94</td>\n",
       "      <td>YES</td>\n",
       "      <td>9.268</td>\n",
       "      <td>11.2672</td>\n",
       "      <td>Lake</td>\n",
       "      <td>45</td>\n",
       "      <td>YES</td>\n",
       "      <td>0.047151</td>\n",
       "    </tr>\n",
       "    <tr>\n",
       "      <th>4</th>\n",
       "      <td>36.2</td>\n",
       "      <td>0.06905</td>\n",
       "      <td>32.18</td>\n",
       "      <td>0.458</td>\n",
       "      <td>7.147</td>\n",
       "      <td>54.2</td>\n",
       "      <td>6.16</td>\n",
       "      <td>5.86</td>\n",
       "      <td>6.37</td>\n",
       "      <td>5.86</td>\n",
       "      <td>21.3</td>\n",
       "      <td>5.33</td>\n",
       "      <td>NO</td>\n",
       "      <td>8.824</td>\n",
       "      <td>11.2896</td>\n",
       "      <td>Lake</td>\n",
       "      <td>55</td>\n",
       "      <td>YES</td>\n",
       "      <td>0.039474</td>\n",
       "    </tr>\n",
       "  </tbody>\n",
       "</table>\n",
       "</div>"
      ],
      "text/plain": [
       "   price  crime_rate  resid_area  air_qual  room_num   age  dist1  dist2  \\\n",
       "0   24.0     0.00632       32.31     0.538     6.575  65.2   4.35   3.81   \n",
       "1   21.6     0.02731       37.07     0.469     6.421  78.9   4.99   4.70   \n",
       "2   34.7     0.02729       37.07     0.469     7.185  61.1   5.03   4.86   \n",
       "3   33.4     0.03237       32.18     0.458     6.998  45.8   6.21   5.93   \n",
       "4   36.2     0.06905       32.18     0.458     7.147  54.2   6.16   5.86   \n",
       "\n",
       "   dist3  dist4  teachers  poor_prop airport  n_hos_beds  n_hot_rooms  \\\n",
       "0   4.18   4.01      24.7       4.98     YES       5.480      11.1920   \n",
       "1   5.12   5.06      22.2       9.14      NO       7.332      12.1728   \n",
       "2   5.01   4.97      22.2       4.03      NO       7.394     101.1200   \n",
       "3   6.16   5.96      21.3       2.94     YES       9.268      11.2672   \n",
       "4   6.37   5.86      21.3       5.33      NO       8.824      11.2896   \n",
       "\n",
       "  waterbody  rainfall bus_ter     parks  \n",
       "0     River        23     YES  0.049347  \n",
       "1      Lake        42     YES  0.046146  \n",
       "2      None        38     YES  0.045764  \n",
       "3      Lake        45     YES  0.047151  \n",
       "4      Lake        55     YES  0.039474  "
      ]
     },
     "execution_count": 5,
     "metadata": {},
     "output_type": "execute_result"
    }
   ],
   "source": [
    "df.head()"
   ]
  },
  {
   "cell_type": "code",
   "execution_count": 8,
   "id": "6555dabe",
   "metadata": {},
   "outputs": [
    {
     "data": {
      "text/plain": [
       "(506, 19)"
      ]
     },
     "execution_count": 8,
     "metadata": {},
     "output_type": "execute_result"
    }
   ],
   "source": [
    "df.shape"
   ]
  },
  {
   "cell_type": "code",
   "execution_count": 12,
   "id": "afe9fe5e",
   "metadata": {},
   "outputs": [
    {
     "data": {
      "text/html": [
       "<div>\n",
       "<style scoped>\n",
       "    .dataframe tbody tr th:only-of-type {\n",
       "        vertical-align: middle;\n",
       "    }\n",
       "\n",
       "    .dataframe tbody tr th {\n",
       "        vertical-align: top;\n",
       "    }\n",
       "\n",
       "    .dataframe thead th {\n",
       "        text-align: right;\n",
       "    }\n",
       "</style>\n",
       "<table border=\"1\" class=\"dataframe\">\n",
       "  <thead>\n",
       "    <tr style=\"text-align: right;\">\n",
       "      <th></th>\n",
       "      <th>price</th>\n",
       "      <th>crime_rate</th>\n",
       "      <th>resid_area</th>\n",
       "      <th>air_qual</th>\n",
       "      <th>room_num</th>\n",
       "      <th>age</th>\n",
       "      <th>dist1</th>\n",
       "      <th>dist2</th>\n",
       "      <th>dist3</th>\n",
       "      <th>dist4</th>\n",
       "      <th>teachers</th>\n",
       "      <th>poor_prop</th>\n",
       "      <th>n_hos_beds</th>\n",
       "      <th>n_hot_rooms</th>\n",
       "      <th>rainfall</th>\n",
       "      <th>parks</th>\n",
       "    </tr>\n",
       "  </thead>\n",
       "  <tbody>\n",
       "    <tr>\n",
       "      <th>count</th>\n",
       "      <td>506.000000</td>\n",
       "      <td>506.000000</td>\n",
       "      <td>506.000000</td>\n",
       "      <td>506.000000</td>\n",
       "      <td>506.000000</td>\n",
       "      <td>506.000000</td>\n",
       "      <td>506.000000</td>\n",
       "      <td>506.000000</td>\n",
       "      <td>506.000000</td>\n",
       "      <td>506.000000</td>\n",
       "      <td>506.000000</td>\n",
       "      <td>506.000000</td>\n",
       "      <td>498.000000</td>\n",
       "      <td>506.000000</td>\n",
       "      <td>506.000000</td>\n",
       "      <td>506.000000</td>\n",
       "    </tr>\n",
       "    <tr>\n",
       "      <th>mean</th>\n",
       "      <td>22.528854</td>\n",
       "      <td>3.613524</td>\n",
       "      <td>41.136779</td>\n",
       "      <td>0.554695</td>\n",
       "      <td>6.284634</td>\n",
       "      <td>68.574901</td>\n",
       "      <td>3.971996</td>\n",
       "      <td>3.628775</td>\n",
       "      <td>3.960672</td>\n",
       "      <td>3.618972</td>\n",
       "      <td>21.544466</td>\n",
       "      <td>12.653063</td>\n",
       "      <td>7.899767</td>\n",
       "      <td>13.041605</td>\n",
       "      <td>39.181818</td>\n",
       "      <td>0.054454</td>\n",
       "    </tr>\n",
       "    <tr>\n",
       "      <th>std</th>\n",
       "      <td>9.182176</td>\n",
       "      <td>8.601545</td>\n",
       "      <td>6.860353</td>\n",
       "      <td>0.115878</td>\n",
       "      <td>0.702617</td>\n",
       "      <td>28.148861</td>\n",
       "      <td>2.108532</td>\n",
       "      <td>2.108580</td>\n",
       "      <td>2.119797</td>\n",
       "      <td>2.099203</td>\n",
       "      <td>2.164946</td>\n",
       "      <td>7.141062</td>\n",
       "      <td>1.476683</td>\n",
       "      <td>5.238957</td>\n",
       "      <td>12.513697</td>\n",
       "      <td>0.010632</td>\n",
       "    </tr>\n",
       "    <tr>\n",
       "      <th>min</th>\n",
       "      <td>5.000000</td>\n",
       "      <td>0.006320</td>\n",
       "      <td>30.460000</td>\n",
       "      <td>0.385000</td>\n",
       "      <td>3.561000</td>\n",
       "      <td>2.900000</td>\n",
       "      <td>1.130000</td>\n",
       "      <td>0.920000</td>\n",
       "      <td>1.150000</td>\n",
       "      <td>0.730000</td>\n",
       "      <td>18.000000</td>\n",
       "      <td>1.730000</td>\n",
       "      <td>5.268000</td>\n",
       "      <td>10.057600</td>\n",
       "      <td>3.000000</td>\n",
       "      <td>0.033292</td>\n",
       "    </tr>\n",
       "    <tr>\n",
       "      <th>25%</th>\n",
       "      <td>17.025000</td>\n",
       "      <td>0.082045</td>\n",
       "      <td>35.190000</td>\n",
       "      <td>0.449000</td>\n",
       "      <td>5.885500</td>\n",
       "      <td>45.025000</td>\n",
       "      <td>2.270000</td>\n",
       "      <td>1.940000</td>\n",
       "      <td>2.232500</td>\n",
       "      <td>1.940000</td>\n",
       "      <td>19.800000</td>\n",
       "      <td>6.950000</td>\n",
       "      <td>6.634500</td>\n",
       "      <td>11.189800</td>\n",
       "      <td>28.000000</td>\n",
       "      <td>0.046464</td>\n",
       "    </tr>\n",
       "    <tr>\n",
       "      <th>50%</th>\n",
       "      <td>21.200000</td>\n",
       "      <td>0.256510</td>\n",
       "      <td>39.690000</td>\n",
       "      <td>0.538000</td>\n",
       "      <td>6.208500</td>\n",
       "      <td>77.500000</td>\n",
       "      <td>3.385000</td>\n",
       "      <td>3.010000</td>\n",
       "      <td>3.375000</td>\n",
       "      <td>3.070000</td>\n",
       "      <td>20.950000</td>\n",
       "      <td>11.360000</td>\n",
       "      <td>7.999000</td>\n",
       "      <td>12.720000</td>\n",
       "      <td>39.000000</td>\n",
       "      <td>0.053507</td>\n",
       "    </tr>\n",
       "    <tr>\n",
       "      <th>75%</th>\n",
       "      <td>25.000000</td>\n",
       "      <td>3.677083</td>\n",
       "      <td>48.100000</td>\n",
       "      <td>0.624000</td>\n",
       "      <td>6.623500</td>\n",
       "      <td>94.075000</td>\n",
       "      <td>5.367500</td>\n",
       "      <td>4.992500</td>\n",
       "      <td>5.407500</td>\n",
       "      <td>4.985000</td>\n",
       "      <td>22.600000</td>\n",
       "      <td>16.955000</td>\n",
       "      <td>9.088000</td>\n",
       "      <td>14.170800</td>\n",
       "      <td>50.000000</td>\n",
       "      <td>0.061397</td>\n",
       "    </tr>\n",
       "    <tr>\n",
       "      <th>max</th>\n",
       "      <td>50.000000</td>\n",
       "      <td>88.976200</td>\n",
       "      <td>57.740000</td>\n",
       "      <td>0.871000</td>\n",
       "      <td>8.780000</td>\n",
       "      <td>100.000000</td>\n",
       "      <td>12.320000</td>\n",
       "      <td>11.930000</td>\n",
       "      <td>12.320000</td>\n",
       "      <td>11.940000</td>\n",
       "      <td>27.400000</td>\n",
       "      <td>37.970000</td>\n",
       "      <td>10.876000</td>\n",
       "      <td>101.120000</td>\n",
       "      <td>60.000000</td>\n",
       "      <td>0.086711</td>\n",
       "    </tr>\n",
       "  </tbody>\n",
       "</table>\n",
       "</div>"
      ],
      "text/plain": [
       "            price  crime_rate  resid_area    air_qual    room_num         age  \\\n",
       "count  506.000000  506.000000  506.000000  506.000000  506.000000  506.000000   \n",
       "mean    22.528854    3.613524   41.136779    0.554695    6.284634   68.574901   \n",
       "std      9.182176    8.601545    6.860353    0.115878    0.702617   28.148861   \n",
       "min      5.000000    0.006320   30.460000    0.385000    3.561000    2.900000   \n",
       "25%     17.025000    0.082045   35.190000    0.449000    5.885500   45.025000   \n",
       "50%     21.200000    0.256510   39.690000    0.538000    6.208500   77.500000   \n",
       "75%     25.000000    3.677083   48.100000    0.624000    6.623500   94.075000   \n",
       "max     50.000000   88.976200   57.740000    0.871000    8.780000  100.000000   \n",
       "\n",
       "            dist1       dist2       dist3       dist4    teachers   poor_prop  \\\n",
       "count  506.000000  506.000000  506.000000  506.000000  506.000000  506.000000   \n",
       "mean     3.971996    3.628775    3.960672    3.618972   21.544466   12.653063   \n",
       "std      2.108532    2.108580    2.119797    2.099203    2.164946    7.141062   \n",
       "min      1.130000    0.920000    1.150000    0.730000   18.000000    1.730000   \n",
       "25%      2.270000    1.940000    2.232500    1.940000   19.800000    6.950000   \n",
       "50%      3.385000    3.010000    3.375000    3.070000   20.950000   11.360000   \n",
       "75%      5.367500    4.992500    5.407500    4.985000   22.600000   16.955000   \n",
       "max     12.320000   11.930000   12.320000   11.940000   27.400000   37.970000   \n",
       "\n",
       "       n_hos_beds  n_hot_rooms    rainfall       parks  \n",
       "count  498.000000   506.000000  506.000000  506.000000  \n",
       "mean     7.899767    13.041605   39.181818    0.054454  \n",
       "std      1.476683     5.238957   12.513697    0.010632  \n",
       "min      5.268000    10.057600    3.000000    0.033292  \n",
       "25%      6.634500    11.189800   28.000000    0.046464  \n",
       "50%      7.999000    12.720000   39.000000    0.053507  \n",
       "75%      9.088000    14.170800   50.000000    0.061397  \n",
       "max     10.876000   101.120000   60.000000    0.086711  "
      ]
     },
     "execution_count": 12,
     "metadata": {},
     "output_type": "execute_result"
    }
   ],
   "source": [
    "df.describe()"
   ]
  },
  {
   "cell_type": "code",
   "execution_count": 14,
   "id": "4f6d8617",
   "metadata": {},
   "outputs": [
    {
     "data": {
      "text/plain": [
       "<seaborn.axisgrid.JointGrid at 0x7fb1d1f74bb0>"
      ]
     },
     "execution_count": 14,
     "metadata": {},
     "output_type": "execute_result"
    },
    {
     "data": {
      "image/png": "[encoded data removed]",
      "text/plain": [
       "<Figure size 432x432 with 3 Axes>"
      ]
     },
     "metadata": {
      "needs_background": "light"
     },
     "output_type": "display_data"
    }
   ],
   "source": [
    "sns.jointplot(x='n_hot_rooms', y='price', data=df)"
   ]
  },
  {
   "cell_type": "code",
   "execution_count": 15,
   "id": "edd266aa",
   "metadata": {},
   "outputs": [
    {
     "data": {
      "text/plain": [
       "<seaborn.axisgrid.JointGrid at 0x7fb1d2208d30>"
      ]
     },
     "execution_count": 15,
     "metadata": {},
     "output_type": "execute_result"
    },
    {
     "data": {
      "image/png": "[encoded data removed]",
      "text/plain": [
       "<Figure size 432x432 with 3 Axes>"
      ]
     },
     "metadata": {
      "needs_background": "light"
     },
     "output_type": "display_data"
    }
   ],
   "source": [
    "sns.jointplot(x='rainfall',y=\"price\", data=df)"
   ]
  },
  {
   "cell_type": "code",
   "execution_count": 6,
   "id": "c192e34b",
   "metadata": {},
   "outputs": [
    {
     "data": {
      "text/html": [
       "<div>\n",
       "<style scoped>\n",
       "    .dataframe tbody tr th:only-of-type {\n",
       "        vertical-align: middle;\n",
       "    }\n",
       "\n",
       "    .dataframe tbody tr th {\n",
       "        vertical-align: top;\n",
       "    }\n",
       "\n",
       "    .dataframe thead th {\n",
       "        text-align: right;\n",
       "    }\n",
       "</style>\n",
       "<table border=\"1\" class=\"dataframe\">\n",
       "  <thead>\n",
       "    <tr style=\"text-align: right;\">\n",
       "      <th></th>\n",
       "      <th>price</th>\n",
       "      <th>crime_rate</th>\n",
       "      <th>resid_area</th>\n",
       "      <th>air_qual</th>\n",
       "      <th>room_num</th>\n",
       "      <th>age</th>\n",
       "      <th>dist1</th>\n",
       "      <th>dist2</th>\n",
       "      <th>dist3</th>\n",
       "      <th>dist4</th>\n",
       "      <th>teachers</th>\n",
       "      <th>poor_prop</th>\n",
       "      <th>airport</th>\n",
       "      <th>n_hos_beds</th>\n",
       "      <th>n_hot_rooms</th>\n",
       "      <th>waterbody</th>\n",
       "      <th>rainfall</th>\n",
       "      <th>bus_ter</th>\n",
       "      <th>parks</th>\n",
       "    </tr>\n",
       "  </thead>\n",
       "  <tbody>\n",
       "    <tr>\n",
       "      <th>0</th>\n",
       "      <td>24.0</td>\n",
       "      <td>0.00632</td>\n",
       "      <td>32.31</td>\n",
       "      <td>0.538</td>\n",
       "      <td>6.575</td>\n",
       "      <td>65.2</td>\n",
       "      <td>4.35</td>\n",
       "      <td>3.81</td>\n",
       "      <td>4.18</td>\n",
       "      <td>4.01</td>\n",
       "      <td>24.7</td>\n",
       "      <td>4.98</td>\n",
       "      <td>YES</td>\n",
       "      <td>5.480</td>\n",
       "      <td>11.1920</td>\n",
       "      <td>River</td>\n",
       "      <td>23</td>\n",
       "      <td>YES</td>\n",
       "      <td>0.049347</td>\n",
       "    </tr>\n",
       "    <tr>\n",
       "      <th>1</th>\n",
       "      <td>21.6</td>\n",
       "      <td>0.02731</td>\n",
       "      <td>37.07</td>\n",
       "      <td>0.469</td>\n",
       "      <td>6.421</td>\n",
       "      <td>78.9</td>\n",
       "      <td>4.99</td>\n",
       "      <td>4.70</td>\n",
       "      <td>5.12</td>\n",
       "      <td>5.06</td>\n",
       "      <td>22.2</td>\n",
       "      <td>9.14</td>\n",
       "      <td>NO</td>\n",
       "      <td>7.332</td>\n",
       "      <td>12.1728</td>\n",
       "      <td>Lake</td>\n",
       "      <td>42</td>\n",
       "      <td>YES</td>\n",
       "      <td>0.046146</td>\n",
       "    </tr>\n",
       "    <tr>\n",
       "      <th>2</th>\n",
       "      <td>34.7</td>\n",
       "      <td>0.02729</td>\n",
       "      <td>37.07</td>\n",
       "      <td>0.469</td>\n",
       "      <td>7.185</td>\n",
       "      <td>61.1</td>\n",
       "      <td>5.03</td>\n",
       "      <td>4.86</td>\n",
       "      <td>5.01</td>\n",
       "      <td>4.97</td>\n",
       "      <td>22.2</td>\n",
       "      <td>4.03</td>\n",
       "      <td>NO</td>\n",
       "      <td>7.394</td>\n",
       "      <td>101.1200</td>\n",
       "      <td>None</td>\n",
       "      <td>38</td>\n",
       "      <td>YES</td>\n",
       "      <td>0.045764</td>\n",
       "    </tr>\n",
       "    <tr>\n",
       "      <th>3</th>\n",
       "      <td>33.4</td>\n",
       "      <td>0.03237</td>\n",
       "      <td>32.18</td>\n",
       "      <td>0.458</td>\n",
       "      <td>6.998</td>\n",
       "      <td>45.8</td>\n",
       "      <td>6.21</td>\n",
       "      <td>5.93</td>\n",
       "      <td>6.16</td>\n",
       "      <td>5.96</td>\n",
       "      <td>21.3</td>\n",
       "      <td>2.94</td>\n",
       "      <td>YES</td>\n",
       "      <td>9.268</td>\n",
       "      <td>11.2672</td>\n",
       "      <td>Lake</td>\n",
       "      <td>45</td>\n",
       "      <td>YES</td>\n",
       "      <td>0.047151</td>\n",
       "    </tr>\n",
       "    <tr>\n",
       "      <th>4</th>\n",
       "      <td>36.2</td>\n",
       "      <td>0.06905</td>\n",
       "      <td>32.18</td>\n",
       "      <td>0.458</td>\n",
       "      <td>7.147</td>\n",
       "      <td>54.2</td>\n",
       "      <td>6.16</td>\n",
       "      <td>5.86</td>\n",
       "      <td>6.37</td>\n",
       "      <td>5.86</td>\n",
       "      <td>21.3</td>\n",
       "      <td>5.33</td>\n",
       "      <td>NO</td>\n",
       "      <td>8.824</td>\n",
       "      <td>11.2896</td>\n",
       "      <td>Lake</td>\n",
       "      <td>55</td>\n",
       "      <td>YES</td>\n",
       "      <td>0.039474</td>\n",
       "    </tr>\n",
       "  </tbody>\n",
       "</table>\n",
       "</div>"
      ],
      "text/plain": [
       "   price  crime_rate  resid_area  air_qual  room_num   age  dist1  dist2  \\\n",
       "0   24.0     0.00632       32.31     0.538     6.575  65.2   4.35   3.81   \n",
       "1   21.6     0.02731       37.07     0.469     6.421  78.9   4.99   4.70   \n",
       "2   34.7     0.02729       37.07     0.469     7.185  61.1   5.03   4.86   \n",
       "3   33.4     0.03237       32.18     0.458     6.998  45.8   6.21   5.93   \n",
       "4   36.2     0.06905       32.18     0.458     7.147  54.2   6.16   5.86   \n",
       "\n",
       "   dist3  dist4  teachers  poor_prop airport  n_hos_beds  n_hot_rooms  \\\n",
       "0   4.18   4.01      24.7       4.98     YES       5.480      11.1920   \n",
       "1   5.12   5.06      22.2       9.14      NO       7.332      12.1728   \n",
       "2   5.01   4.97      22.2       4.03      NO       7.394     101.1200   \n",
       "3   6.16   5.96      21.3       2.94     YES       9.268      11.2672   \n",
       "4   6.37   5.86      21.3       5.33      NO       8.824      11.2896   \n",
       "\n",
       "  waterbody  rainfall bus_ter     parks  \n",
       "0     River        23     YES  0.049347  \n",
       "1      Lake        42     YES  0.046146  \n",
       "2      None        38     YES  0.045764  \n",
       "3      Lake        45     YES  0.047151  \n",
       "4      Lake        55     YES  0.039474  "
      ]
     },
     "execution_count": 6,
     "metadata": {},
     "output_type": "execute_result"
    }
   ],
   "source": [
    "df.head()"
   ]
  },
  {
   "cell_type": "code",
   "execution_count": 17,
   "id": "0a20db2d",
   "metadata": {},
   "outputs": [
    {
     "data": {
      "text/plain": [
       "<AxesSubplot:xlabel='airport', ylabel='count'>"
      ]
     },
     "execution_count": 17,
     "metadata": {},
     "output_type": "execute_result"
    },
    {
     "data": {
      "image/png": "[encoded data removed]",
      "text/plain": [
       "<Figure size 432x288 with 1 Axes>"
      ]
     },
     "metadata": {
      "needs_background": "light"
     },
     "output_type": "display_data"
    }
   ],
   "source": [
    "sns.countplot(x='airport', data=df)"
   ]
  },
  {
   "cell_type": "code",
   "execution_count": 18,
   "id": "628ff09a",
   "metadata": {},
   "outputs": [
    {
     "data": {
      "text/plain": [
       "<AxesSubplot:xlabel='waterbody', ylabel='count'>"
      ]
     },
     "execution_count": 18,
     "metadata": {},
     "output_type": "execute_result"
    },
    {
     "data": {
      "image/png": "[encoded data removed]",
      "text/plain": [
       "<Figure size 432x288 with 1 Axes>"
      ]
     },
     "metadata": {
      "needs_background": "light"
     },
     "output_type": "display_data"
    }
   ],
   "source": [
    "sns.countplot(x='waterbody', data=df)"
   ]
  },
  {
   "cell_type": "code",
   "execution_count": 19,
   "id": "321e26bc",
   "metadata": {},
   "outputs": [
    {
     "data": {
      "text/plain": [
       "<AxesSubplot:xlabel='bus_ter', ylabel='count'>"
      ]
     },
     "execution_count": 19,
     "metadata": {},
     "output_type": "execute_result"
    },
    {
     "data": {
      "image/png": "[encoded data removed]",
      "text/plain": [
       "<Figure size 432x288 with 1 Axes>"
      ]
     },
     "metadata": {
      "needs_background": "light"
     },
     "output_type": "display_data"
    }
   ],
   "source": [
    "sns.countplot(x='bus_ter', data=df)"
   ]
  },
  {
   "cell_type": "markdown",
   "id": "6f34714e",
   "metadata": {},
   "source": [
    "1. Missing values in n_hos_beds\n",
    "2. skweness or outliers in crime rate\n",
    "3. Outliers in n_hot_rooms and rainfall\n",
    "4. Bus_ter has only 'Yes' value"
   ]
  },
  {
   "cell_type": "markdown",
   "id": "e44393d4",
   "metadata": {},
   "source": [
    "Outliers"
   ]
  },
  {
   "cell_type": "code",
   "execution_count": 8,
   "id": "8bdf54c8",
   "metadata": {},
   "outputs": [
    {
     "name": "stdout",
     "output_type": "stream",
     "text": [
      "<class 'pandas.core.frame.DataFrame'>\n",
      "RangeIndex: 506 entries, 0 to 505\n",
      "Data columns (total 19 columns):\n",
      " #   Column       Non-Null Count  Dtype  \n",
      "---  ------       --------------  -----  \n",
      " 0   price        506 non-null    float64\n",
      " 1   crime_rate   506 non-null    float64\n",
      " 2   resid_area   506 non-null    float64\n",
      " 3   air_qual     506 non-null    float64\n",
      " 4   room_num     506 non-null    float64\n",
      " 5   age          506 non-null    float64\n",
      " 6   dist1        506 non-null    float64\n",
      " 7   dist2        506 non-null    float64\n",
      " 8   dist3        506 non-null    float64\n",
      " 9   dist4        506 non-null    float64\n",
      " 10  teachers     506 non-null    float64\n",
      " 11  poor_prop    506 non-null    float64\n",
      " 12  airport      506 non-null    object \n",
      " 13  n_hos_beds   498 non-null    float64\n",
      " 14  n_hot_rooms  506 non-null    float64\n",
      " 15  waterbody    506 non-null    object \n",
      " 16  rainfall     506 non-null    int64  \n",
      " 17  bus_ter      506 non-null    object \n",
      " 18  parks        506 non-null    float64\n",
      "dtypes: float64(15), int64(1), object(3)\n",
      "memory usage: 75.2+ KB\n"
     ]
    }
   ],
   "source": [
    "df.info()"
   ]
  },
  {
   "cell_type": "code",
   "execution_count": 9,
   "id": "21d2e3ba",
   "metadata": {},
   "outputs": [
    {
     "data": {
      "text/plain": [
       "array([15.39952])"
      ]
     },
     "execution_count": 9,
     "metadata": {},
     "output_type": "execute_result"
    }
   ],
   "source": [
    "np.percentile(df.n_hot_rooms,[99])"
   ]
  },
  {
   "cell_type": "code",
   "execution_count": 10,
   "id": "a3e3d04e",
   "metadata": {},
   "outputs": [
    {
     "data": {
      "text/plain": [
       "15.39952"
      ]
     },
     "execution_count": 10,
     "metadata": {},
     "output_type": "execute_result"
    }
   ],
   "source": [
    "np.percentile(df.n_hot_rooms,[99])[0]"
   ]
  },
  {
   "cell_type": "code",
   "execution_count": 11,
   "id": "9e3f52e2",
   "metadata": {},
   "outputs": [],
   "source": [
    "uv = np.percentile(df.n_hot_rooms,[99])[0]"
   ]
  },
  {
   "cell_type": "code",
   "execution_count": 15,
   "id": "07d9c004",
   "metadata": {},
   "outputs": [
    {
     "data": {
      "text/html": [
       "<div>\n",
       "<style scoped>\n",
       "    .dataframe tbody tr th:only-of-type {\n",
       "        vertical-align: middle;\n",
       "    }\n",
       "\n",
       "    .dataframe tbody tr th {\n",
       "        vertical-align: top;\n",
       "    }\n",
       "\n",
       "    .dataframe thead th {\n",
       "        text-align: right;\n",
       "    }\n",
       "</style>\n",
       "<table border=\"1\" class=\"dataframe\">\n",
       "  <thead>\n",
       "    <tr style=\"text-align: right;\">\n",
       "      <th></th>\n",
       "      <th>price</th>\n",
       "      <th>crime_rate</th>\n",
       "      <th>resid_area</th>\n",
       "      <th>air_qual</th>\n",
       "      <th>room_num</th>\n",
       "      <th>age</th>\n",
       "      <th>dist1</th>\n",
       "      <th>dist2</th>\n",
       "      <th>dist3</th>\n",
       "      <th>dist4</th>\n",
       "      <th>teachers</th>\n",
       "      <th>poor_prop</th>\n",
       "      <th>airport</th>\n",
       "      <th>n_hos_beds</th>\n",
       "      <th>n_hot_rooms</th>\n",
       "      <th>waterbody</th>\n",
       "      <th>rainfall</th>\n",
       "      <th>bus_ter</th>\n",
       "      <th>parks</th>\n",
       "    </tr>\n",
       "  </thead>\n",
       "  <tbody>\n",
       "    <tr>\n",
       "      <th>2</th>\n",
       "      <td>34.7</td>\n",
       "      <td>0.02729</td>\n",
       "      <td>37.07</td>\n",
       "      <td>0.4690</td>\n",
       "      <td>7.185</td>\n",
       "      <td>61.1</td>\n",
       "      <td>5.03</td>\n",
       "      <td>4.86</td>\n",
       "      <td>5.01</td>\n",
       "      <td>4.97</td>\n",
       "      <td>22.2</td>\n",
       "      <td>4.03</td>\n",
       "      <td>NO</td>\n",
       "      <td>7.394</td>\n",
       "      <td>46.19856</td>\n",
       "      <td>None</td>\n",
       "      <td>38</td>\n",
       "      <td>YES</td>\n",
       "      <td>0.045764</td>\n",
       "    </tr>\n",
       "    <tr>\n",
       "      <th>166</th>\n",
       "      <td>50.0</td>\n",
       "      <td>2.01019</td>\n",
       "      <td>49.58</td>\n",
       "      <td>0.6050</td>\n",
       "      <td>7.929</td>\n",
       "      <td>96.2</td>\n",
       "      <td>2.11</td>\n",
       "      <td>1.91</td>\n",
       "      <td>2.31</td>\n",
       "      <td>1.86</td>\n",
       "      <td>25.3</td>\n",
       "      <td>3.70</td>\n",
       "      <td>YES</td>\n",
       "      <td>8.300</td>\n",
       "      <td>15.40000</td>\n",
       "      <td>River</td>\n",
       "      <td>37</td>\n",
       "      <td>YES</td>\n",
       "      <td>0.052105</td>\n",
       "    </tr>\n",
       "    <tr>\n",
       "      <th>204</th>\n",
       "      <td>50.0</td>\n",
       "      <td>0.02009</td>\n",
       "      <td>32.68</td>\n",
       "      <td>0.4161</td>\n",
       "      <td>8.034</td>\n",
       "      <td>31.9</td>\n",
       "      <td>5.41</td>\n",
       "      <td>4.80</td>\n",
       "      <td>5.28</td>\n",
       "      <td>4.99</td>\n",
       "      <td>25.3</td>\n",
       "      <td>2.88</td>\n",
       "      <td>YES</td>\n",
       "      <td>8.900</td>\n",
       "      <td>15.40000</td>\n",
       "      <td>River</td>\n",
       "      <td>51</td>\n",
       "      <td>YES</td>\n",
       "      <td>0.044178</td>\n",
       "    </tr>\n",
       "    <tr>\n",
       "      <th>267</th>\n",
       "      <td>50.0</td>\n",
       "      <td>0.57834</td>\n",
       "      <td>33.97</td>\n",
       "      <td>0.5750</td>\n",
       "      <td>8.297</td>\n",
       "      <td>67.0</td>\n",
       "      <td>2.60</td>\n",
       "      <td>2.13</td>\n",
       "      <td>2.43</td>\n",
       "      <td>2.52</td>\n",
       "      <td>27.0</td>\n",
       "      <td>7.44</td>\n",
       "      <td>YES</td>\n",
       "      <td>8.000</td>\n",
       "      <td>15.40000</td>\n",
       "      <td>None</td>\n",
       "      <td>42</td>\n",
       "      <td>YES</td>\n",
       "      <td>0.063235</td>\n",
       "    </tr>\n",
       "    <tr>\n",
       "      <th>369</th>\n",
       "      <td>50.0</td>\n",
       "      <td>5.66998</td>\n",
       "      <td>48.10</td>\n",
       "      <td>0.6310</td>\n",
       "      <td>6.683</td>\n",
       "      <td>96.8</td>\n",
       "      <td>1.55</td>\n",
       "      <td>1.28</td>\n",
       "      <td>1.65</td>\n",
       "      <td>0.94</td>\n",
       "      <td>19.8</td>\n",
       "      <td>3.73</td>\n",
       "      <td>YES</td>\n",
       "      <td>6.700</td>\n",
       "      <td>15.40000</td>\n",
       "      <td>River</td>\n",
       "      <td>58</td>\n",
       "      <td>YES</td>\n",
       "      <td>0.067477</td>\n",
       "    </tr>\n",
       "    <tr>\n",
       "      <th>423</th>\n",
       "      <td>13.4</td>\n",
       "      <td>7.05042</td>\n",
       "      <td>48.10</td>\n",
       "      <td>0.6140</td>\n",
       "      <td>6.103</td>\n",
       "      <td>85.1</td>\n",
       "      <td>2.08</td>\n",
       "      <td>1.80</td>\n",
       "      <td>2.34</td>\n",
       "      <td>1.87</td>\n",
       "      <td>19.8</td>\n",
       "      <td>23.29</td>\n",
       "      <td>NO</td>\n",
       "      <td>8.268</td>\n",
       "      <td>46.19856</td>\n",
       "      <td>Lake</td>\n",
       "      <td>29</td>\n",
       "      <td>YES</td>\n",
       "      <td>0.063344</td>\n",
       "    </tr>\n",
       "  </tbody>\n",
       "</table>\n",
       "</div>"
      ],
      "text/plain": [
       "     price  crime_rate  resid_area  air_qual  room_num   age  dist1  dist2  \\\n",
       "2     34.7     0.02729       37.07    0.4690     7.185  61.1   5.03   4.86   \n",
       "166   50.0     2.01019       49.58    0.6050     7.929  96.2   2.11   1.91   \n",
       "204   50.0     0.02009       32.68    0.4161     8.034  31.9   5.41   4.80   \n",
       "267   50.0     0.57834       33.97    0.5750     8.297  67.0   2.60   2.13   \n",
       "369   50.0     5.66998       48.10    0.6310     6.683  96.8   1.55   1.28   \n",
       "423   13.4     7.05042       48.10    0.6140     6.103  85.1   2.08   1.80   \n",
       "\n",
       "     dist3  dist4  teachers  poor_prop airport  n_hos_beds  n_hot_rooms  \\\n",
       "2     5.01   4.97      22.2       4.03      NO       7.394     46.19856   \n",
       "166   2.31   1.86      25.3       3.70     YES       8.300     15.40000   \n",
       "204   5.28   4.99      25.3       2.88     YES       8.900     15.40000   \n",
       "267   2.43   2.52      27.0       7.44     YES       8.000     15.40000   \n",
       "369   1.65   0.94      19.8       3.73     YES       6.700     15.40000   \n",
       "423   2.34   1.87      19.8      23.29      NO       8.268     46.19856   \n",
       "\n",
       "    waterbody  rainfall bus_ter     parks  \n",
       "2        None        38     YES  0.045764  \n",
       "166     River        37     YES  0.052105  \n",
       "204     River        51     YES  0.044178  \n",
       "267      None        42     YES  0.063235  \n",
       "369     River        58     YES  0.067477  \n",
       "423      Lake        29     YES  0.063344  "
      ]
     },
     "execution_count": 15,
     "metadata": {},
     "output_type": "execute_result"
    }
   ],
   "source": [
    "df[(df.n_hot_rooms>uv)]"
   ]
  },
  {
   "cell_type": "code",
   "execution_count": 14,
   "id": "448ad0d0",
   "metadata": {},
   "outputs": [
    {
     "name": "stderr",
     "output_type": "stream",
     "text": [
      "/var/folders/58/j_8hz7px0l30bjvcrr05krz00000gn/T/ipykernel_5252/2840720320.py:1: SettingWithCopyWarning: \n",
      "A value is trying to be set on a copy of a slice from a DataFrame\n",
      "\n",
      "See the caveats in the documentation: https://pandas.pydata.org/pandas-docs/stable/user_guide/indexing.html#returning-a-view-versus-a-copy\n",
      "  df.n_hot_rooms[(df.n_hot_rooms> 3*uv)] = 3*uv\n"
     ]
    }
   ],
   "source": [
    "df.n_hot_rooms[(df.n_hot_rooms> 3*uv)] = 3*uv"
   ]
  },
  {
   "cell_type": "code",
   "execution_count": 16,
   "id": "f1735c8f",
   "metadata": {},
   "outputs": [
    {
     "data": {
      "text/plain": [
       "20.0"
      ]
     },
     "execution_count": 16,
     "metadata": {},
     "output_type": "execute_result"
    }
   ],
   "source": [
    "np.percentile(df.rainfall,[1])[0]"
   ]
  },
  {
   "cell_type": "code",
   "execution_count": 17,
   "id": "5a5ecb83",
   "metadata": {},
   "outputs": [],
   "source": [
    "lv = np.percentile(df.rainfall,[1])[0]"
   ]
  },
  {
   "cell_type": "code",
   "execution_count": 24,
   "id": "613756ce",
   "metadata": {},
   "outputs": [
    {
     "data": {
      "text/html": [
       "<div>\n",
       "<style scoped>\n",
       "    .dataframe tbody tr th:only-of-type {\n",
       "        vertical-align: middle;\n",
       "    }\n",
       "\n",
       "    .dataframe tbody tr th {\n",
       "        vertical-align: top;\n",
       "    }\n",
       "\n",
       "    .dataframe thead th {\n",
       "        text-align: right;\n",
       "    }\n",
       "</style>\n",
       "<table border=\"1\" class=\"dataframe\">\n",
       "  <thead>\n",
       "    <tr style=\"text-align: right;\">\n",
       "      <th></th>\n",
       "      <th>price</th>\n",
       "      <th>crime_rate</th>\n",
       "      <th>resid_area</th>\n",
       "      <th>air_qual</th>\n",
       "      <th>room_num</th>\n",
       "      <th>age</th>\n",
       "      <th>dist1</th>\n",
       "      <th>dist2</th>\n",
       "      <th>dist3</th>\n",
       "      <th>dist4</th>\n",
       "      <th>teachers</th>\n",
       "      <th>poor_prop</th>\n",
       "      <th>airport</th>\n",
       "      <th>n_hos_beds</th>\n",
       "      <th>n_hot_rooms</th>\n",
       "      <th>waterbody</th>\n",
       "      <th>rainfall</th>\n",
       "      <th>bus_ter</th>\n",
       "      <th>parks</th>\n",
       "    </tr>\n",
       "  </thead>\n",
       "  <tbody>\n",
       "    <tr>\n",
       "      <th>213</th>\n",
       "      <td>28.1</td>\n",
       "      <td>0.14052</td>\n",
       "      <td>40.59</td>\n",
       "      <td>0.489</td>\n",
       "      <td>6.375</td>\n",
       "      <td>32.3</td>\n",
       "      <td>4.11</td>\n",
       "      <td>3.92</td>\n",
       "      <td>4.18</td>\n",
       "      <td>3.57</td>\n",
       "      <td>21.4</td>\n",
       "      <td>9.38</td>\n",
       "      <td>YES</td>\n",
       "      <td>7.562</td>\n",
       "      <td>10.2248</td>\n",
       "      <td>None</td>\n",
       "      <td>6</td>\n",
       "      <td>YES</td>\n",
       "      <td>0.044019</td>\n",
       "    </tr>\n",
       "  </tbody>\n",
       "</table>\n",
       "</div>"
      ],
      "text/plain": [
       "     price  crime_rate  resid_area  air_qual  room_num   age  dist1  dist2  \\\n",
       "213   28.1     0.14052       40.59     0.489     6.375  32.3   4.11   3.92   \n",
       "\n",
       "     dist3  dist4  teachers  poor_prop airport  n_hos_beds  n_hot_rooms  \\\n",
       "213   4.18   3.57      21.4       9.38     YES       7.562      10.2248   \n",
       "\n",
       "    waterbody  rainfall bus_ter     parks  \n",
       "213      None         6     YES  0.044019  "
      ]
     },
     "execution_count": 24,
     "metadata": {},
     "output_type": "execute_result"
    }
   ],
   "source": [
    "df[(df.rainfall < lv)]"
   ]
  },
  {
   "cell_type": "code",
   "execution_count": 23,
   "id": "91222e57",
   "metadata": {},
   "outputs": [
    {
     "name": "stderr",
     "output_type": "stream",
     "text": [
      "/var/folders/58/j_8hz7px0l30bjvcrr05krz00000gn/T/ipykernel_5252/4287572880.py:1: SettingWithCopyWarning: \n",
      "A value is trying to be set on a copy of a slice from a DataFrame\n",
      "\n",
      "See the caveats in the documentation: https://pandas.pydata.org/pandas-docs/stable/user_guide/indexing.html#returning-a-view-versus-a-copy\n",
      "  df.rainfall[(df.rainfall < 0.3*lv)] = 0.3*lv\n"
     ]
    }
   ],
   "source": [
    "df.rainfall[(df.rainfall < 0.3*lv)] = 0.3*lv"
   ]
  },
  {
   "cell_type": "code",
   "execution_count": 25,
   "id": "ab0b1f54",
   "metadata": {},
   "outputs": [
    {
     "data": {
      "text/plain": [
       "<seaborn.axisgrid.JointGrid at 0x7fd335c0c310>"
      ]
     },
     "execution_count": 25,
     "metadata": {},
     "output_type": "execute_result"
    },
    {
     "data": {
      "image/png": "[encoded data removed]",
      "text/plain": [
       "<Figure size 432x432 with 3 Axes>"
      ]
     },
     "metadata": {
      "needs_background": "light"
     },
     "output_type": "display_data"
    }
   ],
   "source": [
    "sns.jointplot(x=\"crime_rate\", y=\"price\", data=df)"
   ]
  },
  {
   "cell_type": "code",
   "execution_count": 26,
   "id": "38b17fc0",
   "metadata": {},
   "outputs": [
    {
     "data": {
      "text/html": [
       "<div>\n",
       "<style scoped>\n",
       "    .dataframe tbody tr th:only-of-type {\n",
       "        vertical-align: middle;\n",
       "    }\n",
       "\n",
       "    .dataframe tbody tr th {\n",
       "        vertical-align: top;\n",
       "    }\n",
       "\n",
       "    .dataframe thead th {\n",
       "        text-align: right;\n",
       "    }\n",
       "</style>\n",
       "<table border=\"1\" class=\"dataframe\">\n",
       "  <thead>\n",
       "    <tr style=\"text-align: right;\">\n",
       "      <th></th>\n",
       "      <th>price</th>\n",
       "      <th>crime_rate</th>\n",
       "      <th>resid_area</th>\n",
       "      <th>air_qual</th>\n",
       "      <th>room_num</th>\n",
       "      <th>age</th>\n",
       "      <th>dist1</th>\n",
       "      <th>dist2</th>\n",
       "      <th>dist3</th>\n",
       "      <th>dist4</th>\n",
       "      <th>teachers</th>\n",
       "      <th>poor_prop</th>\n",
       "      <th>n_hos_beds</th>\n",
       "      <th>n_hot_rooms</th>\n",
       "      <th>rainfall</th>\n",
       "      <th>parks</th>\n",
       "    </tr>\n",
       "  </thead>\n",
       "  <tbody>\n",
       "    <tr>\n",
       "      <th>count</th>\n",
       "      <td>506.000000</td>\n",
       "      <td>506.000000</td>\n",
       "      <td>506.000000</td>\n",
       "      <td>506.000000</td>\n",
       "      <td>506.000000</td>\n",
       "      <td>506.000000</td>\n",
       "      <td>506.000000</td>\n",
       "      <td>506.000000</td>\n",
       "      <td>506.000000</td>\n",
       "      <td>506.000000</td>\n",
       "      <td>506.000000</td>\n",
       "      <td>506.000000</td>\n",
       "      <td>498.000000</td>\n",
       "      <td>506.000000</td>\n",
       "      <td>506.000000</td>\n",
       "      <td>506.000000</td>\n",
       "    </tr>\n",
       "    <tr>\n",
       "      <th>mean</th>\n",
       "      <td>22.528854</td>\n",
       "      <td>3.613524</td>\n",
       "      <td>41.136779</td>\n",
       "      <td>0.554695</td>\n",
       "      <td>6.284634</td>\n",
       "      <td>68.574901</td>\n",
       "      <td>3.971996</td>\n",
       "      <td>3.628775</td>\n",
       "      <td>3.960672</td>\n",
       "      <td>3.618972</td>\n",
       "      <td>21.544466</td>\n",
       "      <td>12.653063</td>\n",
       "      <td>7.899767</td>\n",
       "      <td>12.864050</td>\n",
       "      <td>39.187747</td>\n",
       "      <td>0.054454</td>\n",
       "    </tr>\n",
       "    <tr>\n",
       "      <th>std</th>\n",
       "      <td>9.182176</td>\n",
       "      <td>8.601545</td>\n",
       "      <td>6.860353</td>\n",
       "      <td>0.115878</td>\n",
       "      <td>0.702617</td>\n",
       "      <td>28.148861</td>\n",
       "      <td>2.108532</td>\n",
       "      <td>2.108580</td>\n",
       "      <td>2.119797</td>\n",
       "      <td>2.099203</td>\n",
       "      <td>2.164946</td>\n",
       "      <td>7.141062</td>\n",
       "      <td>1.476683</td>\n",
       "      <td>2.688778</td>\n",
       "      <td>12.497221</td>\n",
       "      <td>0.010632</td>\n",
       "    </tr>\n",
       "    <tr>\n",
       "      <th>min</th>\n",
       "      <td>5.000000</td>\n",
       "      <td>0.006320</td>\n",
       "      <td>30.460000</td>\n",
       "      <td>0.385000</td>\n",
       "      <td>3.561000</td>\n",
       "      <td>2.900000</td>\n",
       "      <td>1.130000</td>\n",
       "      <td>0.920000</td>\n",
       "      <td>1.150000</td>\n",
       "      <td>0.730000</td>\n",
       "      <td>18.000000</td>\n",
       "      <td>1.730000</td>\n",
       "      <td>5.268000</td>\n",
       "      <td>10.057600</td>\n",
       "      <td>6.000000</td>\n",
       "      <td>0.033292</td>\n",
       "    </tr>\n",
       "    <tr>\n",
       "      <th>25%</th>\n",
       "      <td>17.025000</td>\n",
       "      <td>0.082045</td>\n",
       "      <td>35.190000</td>\n",
       "      <td>0.449000</td>\n",
       "      <td>5.885500</td>\n",
       "      <td>45.025000</td>\n",
       "      <td>2.270000</td>\n",
       "      <td>1.940000</td>\n",
       "      <td>2.232500</td>\n",
       "      <td>1.940000</td>\n",
       "      <td>19.800000</td>\n",
       "      <td>6.950000</td>\n",
       "      <td>6.634500</td>\n",
       "      <td>11.189800</td>\n",
       "      <td>28.000000</td>\n",
       "      <td>0.046464</td>\n",
       "    </tr>\n",
       "    <tr>\n",
       "      <th>50%</th>\n",
       "      <td>21.200000</td>\n",
       "      <td>0.256510</td>\n",
       "      <td>39.690000</td>\n",
       "      <td>0.538000</td>\n",
       "      <td>6.208500</td>\n",
       "      <td>77.500000</td>\n",
       "      <td>3.385000</td>\n",
       "      <td>3.010000</td>\n",
       "      <td>3.375000</td>\n",
       "      <td>3.070000</td>\n",
       "      <td>20.950000</td>\n",
       "      <td>11.360000</td>\n",
       "      <td>7.999000</td>\n",
       "      <td>12.720000</td>\n",
       "      <td>39.000000</td>\n",
       "      <td>0.053507</td>\n",
       "    </tr>\n",
       "    <tr>\n",
       "      <th>75%</th>\n",
       "      <td>25.000000</td>\n",
       "      <td>3.677083</td>\n",
       "      <td>48.100000</td>\n",
       "      <td>0.624000</td>\n",
       "      <td>6.623500</td>\n",
       "      <td>94.075000</td>\n",
       "      <td>5.367500</td>\n",
       "      <td>4.992500</td>\n",
       "      <td>5.407500</td>\n",
       "      <td>4.985000</td>\n",
       "      <td>22.600000</td>\n",
       "      <td>16.955000</td>\n",
       "      <td>9.088000</td>\n",
       "      <td>14.170800</td>\n",
       "      <td>50.000000</td>\n",
       "      <td>0.061397</td>\n",
       "    </tr>\n",
       "    <tr>\n",
       "      <th>max</th>\n",
       "      <td>50.000000</td>\n",
       "      <td>88.976200</td>\n",
       "      <td>57.740000</td>\n",
       "      <td>0.871000</td>\n",
       "      <td>8.780000</td>\n",
       "      <td>100.000000</td>\n",
       "      <td>12.320000</td>\n",
       "      <td>11.930000</td>\n",
       "      <td>12.320000</td>\n",
       "      <td>11.940000</td>\n",
       "      <td>27.400000</td>\n",
       "      <td>37.970000</td>\n",
       "      <td>10.876000</td>\n",
       "      <td>46.198560</td>\n",
       "      <td>60.000000</td>\n",
       "      <td>0.086711</td>\n",
       "    </tr>\n",
       "  </tbody>\n",
       "</table>\n",
       "</div>"
      ],
      "text/plain": [
       "            price  crime_rate  resid_area    air_qual    room_num         age  \\\n",
       "count  506.000000  506.000000  506.000000  506.000000  506.000000  506.000000   \n",
       "mean    22.528854    3.613524   41.136779    0.554695    6.284634   68.574901   \n",
       "std      9.182176    8.601545    6.860353    0.115878    0.702617   28.148861   \n",
       "min      5.000000    0.006320   30.460000    0.385000    3.561000    2.900000   \n",
       "25%     17.025000    0.082045   35.190000    0.449000    5.885500   45.025000   \n",
       "50%     21.200000    0.256510   39.690000    0.538000    6.208500   77.500000   \n",
       "75%     25.000000    3.677083   48.100000    0.624000    6.623500   94.075000   \n",
       "max     50.000000   88.976200   57.740000    0.871000    8.780000  100.000000   \n",
       "\n",
       "            dist1       dist2       dist3       dist4    teachers   poor_prop  \\\n",
       "count  506.000000  506.000000  506.000000  506.000000  506.000000  506.000000   \n",
       "mean     3.971996    3.628775    3.960672    3.618972   21.544466   12.653063   \n",
       "std      2.108532    2.108580    2.119797    2.099203    2.164946    7.141062   \n",
       "min      1.130000    0.920000    1.150000    0.730000   18.000000    1.730000   \n",
       "25%      2.270000    1.940000    2.232500    1.940000   19.800000    6.950000   \n",
       "50%      3.385000    3.010000    3.375000    3.070000   20.950000   11.360000   \n",
       "75%      5.367500    4.992500    5.407500    4.985000   22.600000   16.955000   \n",
       "max     12.320000   11.930000   12.320000   11.940000   27.400000   37.970000   \n",
       "\n",
       "       n_hos_beds  n_hot_rooms    rainfall       parks  \n",
       "count  498.000000   506.000000  506.000000  506.000000  \n",
       "mean     7.899767    12.864050   39.187747    0.054454  \n",
       "std      1.476683     2.688778   12.497221    0.010632  \n",
       "min      5.268000    10.057600    6.000000    0.033292  \n",
       "25%      6.634500    11.189800   28.000000    0.046464  \n",
       "50%      7.999000    12.720000   39.000000    0.053507  \n",
       "75%      9.088000    14.170800   50.000000    0.061397  \n",
       "max     10.876000    46.198560   60.000000    0.086711  "
      ]
     },
     "execution_count": 26,
     "metadata": {},
     "output_type": "execute_result"
    }
   ],
   "source": [
    "df.describe()"
   ]
  },
  {
   "cell_type": "code",
   "execution_count": 28,
   "id": "bfcabc80",
   "metadata": {},
   "outputs": [
    {
     "name": "stdout",
     "output_type": "stream",
     "text": [
      "<class 'pandas.core.frame.DataFrame'>\n",
      "RangeIndex: 506 entries, 0 to 505\n",
      "Data columns (total 19 columns):\n",
      " #   Column       Non-Null Count  Dtype  \n",
      "---  ------       --------------  -----  \n",
      " 0   price        506 non-null    float64\n",
      " 1   crime_rate   506 non-null    float64\n",
      " 2   resid_area   506 non-null    float64\n",
      " 3   air_qual     506 non-null    float64\n",
      " 4   room_num     506 non-null    float64\n",
      " 5   age          506 non-null    float64\n",
      " 6   dist1        506 non-null    float64\n",
      " 7   dist2        506 non-null    float64\n",
      " 8   dist3        506 non-null    float64\n",
      " 9   dist4        506 non-null    float64\n",
      " 10  teachers     506 non-null    float64\n",
      " 11  poor_prop    506 non-null    float64\n",
      " 12  airport      506 non-null    object \n",
      " 13  n_hos_beds   498 non-null    float64\n",
      " 14  n_hot_rooms  506 non-null    float64\n",
      " 15  waterbody    506 non-null    object \n",
      " 16  rainfall     506 non-null    int64  \n",
      " 17  bus_ter      506 non-null    object \n",
      " 18  parks        506 non-null    float64\n",
      "dtypes: float64(15), int64(1), object(3)\n",
      "memory usage: 75.2+ KB\n"
     ]
    }
   ],
   "source": [
    "df.info()"
   ]
  },
  {
   "cell_type": "code",
   "execution_count": 29,
   "id": "74ff450a",
   "metadata": {},
   "outputs": [],
   "source": [
    "df.n_hos_beds = df.n_hos_beds.fillna(df.n_hos_beds.mean())"
   ]
  },
  {
   "cell_type": "code",
   "execution_count": 30,
   "id": "bcbf4dc3",
   "metadata": {},
   "outputs": [
    {
     "name": "stdout",
     "output_type": "stream",
     "text": [
      "<class 'pandas.core.frame.DataFrame'>\n",
      "RangeIndex: 506 entries, 0 to 505\n",
      "Data columns (total 19 columns):\n",
      " #   Column       Non-Null Count  Dtype  \n",
      "---  ------       --------------  -----  \n",
      " 0   price        506 non-null    float64\n",
      " 1   crime_rate   506 non-null    float64\n",
      " 2   resid_area   506 non-null    float64\n",
      " 3   air_qual     506 non-null    float64\n",
      " 4   room_num     506 non-null    float64\n",
      " 5   age          506 non-null    float64\n",
      " 6   dist1        506 non-null    float64\n",
      " 7   dist2        506 non-null    float64\n",
      " 8   dist3        506 non-null    float64\n",
      " 9   dist4        506 non-null    float64\n",
      " 10  teachers     506 non-null    float64\n",
      " 11  poor_prop    506 non-null    float64\n",
      " 12  airport      506 non-null    object \n",
      " 13  n_hos_beds   506 non-null    float64\n",
      " 14  n_hot_rooms  506 non-null    float64\n",
      " 15  waterbody    506 non-null    object \n",
      " 16  rainfall     506 non-null    int64  \n",
      " 17  bus_ter      506 non-null    object \n",
      " 18  parks        506 non-null    float64\n",
      "dtypes: float64(15), int64(1), object(3)\n",
      "memory usage: 75.2+ KB\n"
     ]
    }
   ],
   "source": [
    "df.info()"
   ]
  },
  {
   "cell_type": "code",
   "execution_count": 34,
   "id": "00bd2786",
   "metadata": {},
   "outputs": [],
   "source": [
    "df.n_hos_beds = df.n_hos_beds.fillna(df.n_hos_beds.mean())"
   ]
  },
  {
   "cell_type": "code",
   "execution_count": 35,
   "id": "0a3a267f",
   "metadata": {},
   "outputs": [
    {
     "name": "stdout",
     "output_type": "stream",
     "text": [
      "<class 'pandas.core.frame.DataFrame'>\n",
      "RangeIndex: 506 entries, 0 to 505\n",
      "Data columns (total 19 columns):\n",
      " #   Column       Non-Null Count  Dtype  \n",
      "---  ------       --------------  -----  \n",
      " 0   price        506 non-null    float64\n",
      " 1   crime_rate   506 non-null    float64\n",
      " 2   resid_area   506 non-null    float64\n",
      " 3   air_qual     506 non-null    float64\n",
      " 4   room_num     506 non-null    float64\n",
      " 5   age          506 non-null    float64\n",
      " 6   dist1        506 non-null    float64\n",
      " 7   dist2        506 non-null    float64\n",
      " 8   dist3        506 non-null    float64\n",
      " 9   dist4        506 non-null    float64\n",
      " 10  teachers     506 non-null    float64\n",
      " 11  poor_prop    506 non-null    float64\n",
      " 12  airport      506 non-null    object \n",
      " 13  n_hos_beds   506 non-null    float64\n",
      " 14  n_hot_rooms  506 non-null    float64\n",
      " 15  waterbody    506 non-null    object \n",
      " 16  rainfall     506 non-null    int64  \n",
      " 17  bus_ter      506 non-null    object \n",
      " 18  parks        506 non-null    float64\n",
      "dtypes: float64(15), int64(1), object(3)\n",
      "memory usage: 75.2+ KB\n"
     ]
    }
   ],
   "source": [
    "df.info()"
   ]
  },
  {
   "cell_type": "code",
   "execution_count": 36,
   "id": "347861e3",
   "metadata": {},
   "outputs": [
    {
     "data": {
      "text/plain": [
       "<seaborn.axisgrid.JointGrid at 0x7fd33607afd0>"
      ]
     },
     "execution_count": 36,
     "metadata": {},
     "output_type": "execute_result"
    },
    {
     "data": {
      "image/png": "[encoded data removed]",
      "text/plain": [
       "<Figure size 432x432 with 3 Axes>"
      ]
     },
     "metadata": {
      "needs_background": "light"
     },
     "output_type": "display_data"
    }
   ],
   "source": [
    "sns.jointplot(x=\"crime_rate\", y=\"price\", data=df)"
   ]
  },
  {
   "cell_type": "code",
   "execution_count": 37,
   "id": "406d85fa",
   "metadata": {},
   "outputs": [],
   "source": [
    "df.crime_rate = np.log(1+df.crime_rate)"
   ]
  },
  {
   "cell_type": "code",
   "execution_count": 38,
   "id": "d91ed15d",
   "metadata": {},
   "outputs": [
    {
     "data": {
      "text/plain": [
       "<seaborn.axisgrid.JointGrid at 0x7fd335db2ee0>"
      ]
     },
     "execution_count": 38,
     "metadata": {},
     "output_type": "execute_result"
    },
    {
     "data": {
      "image/png": "[encoded data removed]",
      "text/plain": [
       "<Figure size 432x432 with 3 Axes>"
      ]
     },
     "metadata": {
      "needs_background": "light"
     },
     "output_type": "display_data"
    }
   ],
   "source": [
    "sns.jointplot(x=\"crime_rate\", y=\"price\", data=df)"
   ]
  },
  {
   "cell_type": "code",
   "execution_count": 39,
   "id": "00f6966a",
   "metadata": {},
   "outputs": [],
   "source": [
    "df['avg_dist'] = (df.dist1+df.dist2+df.dist3+df.dist4)/4"
   ]
  },
  {
   "cell_type": "code",
   "execution_count": 42,
   "id": "6939a670",
   "metadata": {},
   "outputs": [
    {
     "data": {
      "text/html": [
       "<div>\n",
       "<style scoped>\n",
       "    .dataframe tbody tr th:only-of-type {\n",
       "        vertical-align: middle;\n",
       "    }\n",
       "\n",
       "    .dataframe tbody tr th {\n",
       "        vertical-align: top;\n",
       "    }\n",
       "\n",
       "    .dataframe thead th {\n",
       "        text-align: right;\n",
       "    }\n",
       "</style>\n",
       "<table border=\"1\" class=\"dataframe\">\n",
       "  <thead>\n",
       "    <tr style=\"text-align: right;\">\n",
       "      <th></th>\n",
       "      <th>price</th>\n",
       "      <th>crime_rate</th>\n",
       "      <th>resid_area</th>\n",
       "      <th>air_qual</th>\n",
       "      <th>room_num</th>\n",
       "      <th>age</th>\n",
       "      <th>dist1</th>\n",
       "      <th>dist2</th>\n",
       "      <th>dist3</th>\n",
       "      <th>dist4</th>\n",
       "      <th>teachers</th>\n",
       "      <th>poor_prop</th>\n",
       "      <th>n_hos_beds</th>\n",
       "      <th>n_hot_rooms</th>\n",
       "      <th>rainfall</th>\n",
       "      <th>parks</th>\n",
       "      <th>avg_dist</th>\n",
       "    </tr>\n",
       "  </thead>\n",
       "  <tbody>\n",
       "    <tr>\n",
       "      <th>count</th>\n",
       "      <td>506.000000</td>\n",
       "      <td>506.000000</td>\n",
       "      <td>506.000000</td>\n",
       "      <td>506.000000</td>\n",
       "      <td>506.000000</td>\n",
       "      <td>506.000000</td>\n",
       "      <td>506.000000</td>\n",
       "      <td>506.000000</td>\n",
       "      <td>506.000000</td>\n",
       "      <td>506.000000</td>\n",
       "      <td>506.000000</td>\n",
       "      <td>506.000000</td>\n",
       "      <td>506.000000</td>\n",
       "      <td>506.000000</td>\n",
       "      <td>506.000000</td>\n",
       "      <td>506.000000</td>\n",
       "      <td>506.000000</td>\n",
       "    </tr>\n",
       "    <tr>\n",
       "      <th>mean</th>\n",
       "      <td>22.528854</td>\n",
       "      <td>0.813418</td>\n",
       "      <td>41.136779</td>\n",
       "      <td>0.554695</td>\n",
       "      <td>6.284634</td>\n",
       "      <td>68.574901</td>\n",
       "      <td>3.971996</td>\n",
       "      <td>3.628775</td>\n",
       "      <td>3.960672</td>\n",
       "      <td>3.618972</td>\n",
       "      <td>21.544466</td>\n",
       "      <td>12.653063</td>\n",
       "      <td>7.899767</td>\n",
       "      <td>13.041605</td>\n",
       "      <td>39.181818</td>\n",
       "      <td>0.054454</td>\n",
       "      <td>3.795104</td>\n",
       "    </tr>\n",
       "    <tr>\n",
       "      <th>std</th>\n",
       "      <td>9.182176</td>\n",
       "      <td>1.022731</td>\n",
       "      <td>6.860353</td>\n",
       "      <td>0.115878</td>\n",
       "      <td>0.702617</td>\n",
       "      <td>28.148861</td>\n",
       "      <td>2.108532</td>\n",
       "      <td>2.108580</td>\n",
       "      <td>2.119797</td>\n",
       "      <td>2.099203</td>\n",
       "      <td>2.164946</td>\n",
       "      <td>7.141062</td>\n",
       "      <td>1.464939</td>\n",
       "      <td>5.238957</td>\n",
       "      <td>12.513697</td>\n",
       "      <td>0.010632</td>\n",
       "      <td>2.105859</td>\n",
       "    </tr>\n",
       "    <tr>\n",
       "      <th>min</th>\n",
       "      <td>5.000000</td>\n",
       "      <td>0.006300</td>\n",
       "      <td>30.460000</td>\n",
       "      <td>0.385000</td>\n",
       "      <td>3.561000</td>\n",
       "      <td>2.900000</td>\n",
       "      <td>1.130000</td>\n",
       "      <td>0.920000</td>\n",
       "      <td>1.150000</td>\n",
       "      <td>0.730000</td>\n",
       "      <td>18.000000</td>\n",
       "      <td>1.730000</td>\n",
       "      <td>5.268000</td>\n",
       "      <td>10.057600</td>\n",
       "      <td>3.000000</td>\n",
       "      <td>0.033292</td>\n",
       "      <td>1.127500</td>\n",
       "    </tr>\n",
       "    <tr>\n",
       "      <th>25%</th>\n",
       "      <td>17.025000</td>\n",
       "      <td>0.078853</td>\n",
       "      <td>35.190000</td>\n",
       "      <td>0.449000</td>\n",
       "      <td>5.885500</td>\n",
       "      <td>45.025000</td>\n",
       "      <td>2.270000</td>\n",
       "      <td>1.940000</td>\n",
       "      <td>2.232500</td>\n",
       "      <td>1.940000</td>\n",
       "      <td>19.800000</td>\n",
       "      <td>6.950000</td>\n",
       "      <td>6.659000</td>\n",
       "      <td>11.189800</td>\n",
       "      <td>28.000000</td>\n",
       "      <td>0.046464</td>\n",
       "      <td>2.100625</td>\n",
       "    </tr>\n",
       "    <tr>\n",
       "      <th>50%</th>\n",
       "      <td>21.200000</td>\n",
       "      <td>0.228336</td>\n",
       "      <td>39.690000</td>\n",
       "      <td>0.538000</td>\n",
       "      <td>6.208500</td>\n",
       "      <td>77.500000</td>\n",
       "      <td>3.385000</td>\n",
       "      <td>3.010000</td>\n",
       "      <td>3.375000</td>\n",
       "      <td>3.070000</td>\n",
       "      <td>20.950000</td>\n",
       "      <td>11.360000</td>\n",
       "      <td>7.963000</td>\n",
       "      <td>12.720000</td>\n",
       "      <td>39.000000</td>\n",
       "      <td>0.053507</td>\n",
       "      <td>3.207500</td>\n",
       "    </tr>\n",
       "    <tr>\n",
       "      <th>75%</th>\n",
       "      <td>25.000000</td>\n",
       "      <td>1.542674</td>\n",
       "      <td>48.100000</td>\n",
       "      <td>0.624000</td>\n",
       "      <td>6.623500</td>\n",
       "      <td>94.075000</td>\n",
       "      <td>5.367500</td>\n",
       "      <td>4.992500</td>\n",
       "      <td>5.407500</td>\n",
       "      <td>4.985000</td>\n",
       "      <td>22.600000</td>\n",
       "      <td>16.955000</td>\n",
       "      <td>9.076000</td>\n",
       "      <td>14.170800</td>\n",
       "      <td>50.000000</td>\n",
       "      <td>0.061397</td>\n",
       "      <td>5.187500</td>\n",
       "    </tr>\n",
       "    <tr>\n",
       "      <th>max</th>\n",
       "      <td>50.000000</td>\n",
       "      <td>4.499545</td>\n",
       "      <td>57.740000</td>\n",
       "      <td>0.871000</td>\n",
       "      <td>8.780000</td>\n",
       "      <td>100.000000</td>\n",
       "      <td>12.320000</td>\n",
       "      <td>11.930000</td>\n",
       "      <td>12.320000</td>\n",
       "      <td>11.940000</td>\n",
       "      <td>27.400000</td>\n",
       "      <td>37.970000</td>\n",
       "      <td>10.876000</td>\n",
       "      <td>101.120000</td>\n",
       "      <td>60.000000</td>\n",
       "      <td>0.086711</td>\n",
       "      <td>12.127500</td>\n",
       "    </tr>\n",
       "  </tbody>\n",
       "</table>\n",
       "</div>"
      ],
      "text/plain": [
       "            price  crime_rate  resid_area    air_qual    room_num         age  \\\n",
       "count  506.000000  506.000000  506.000000  506.000000  506.000000  506.000000   \n",
       "mean    22.528854    0.813418   41.136779    0.554695    6.284634   68.574901   \n",
       "std      9.182176    1.022731    6.860353    0.115878    0.702617   28.148861   \n",
       "min      5.000000    0.006300   30.460000    0.385000    3.561000    2.900000   \n",
       "25%     17.025000    0.078853   35.190000    0.449000    5.885500   45.025000   \n",
       "50%     21.200000    0.228336   39.690000    0.538000    6.208500   77.500000   \n",
       "75%     25.000000    1.542674   48.100000    0.624000    6.623500   94.075000   \n",
       "max     50.000000    4.499545   57.740000    0.871000    8.780000  100.000000   \n",
       "\n",
       "            dist1       dist2       dist3       dist4    teachers   poor_prop  \\\n",
       "count  506.000000  506.000000  506.000000  506.000000  506.000000  506.000000   \n",
       "mean     3.971996    3.628775    3.960672    3.618972   21.544466   12.653063   \n",
       "std      2.108532    2.108580    2.119797    2.099203    2.164946    7.141062   \n",
       "min      1.130000    0.920000    1.150000    0.730000   18.000000    1.730000   \n",
       "25%      2.270000    1.940000    2.232500    1.940000   19.800000    6.950000   \n",
       "50%      3.385000    3.010000    3.375000    3.070000   20.950000   11.360000   \n",
       "75%      5.367500    4.992500    5.407500    4.985000   22.600000   16.955000   \n",
       "max     12.320000   11.930000   12.320000   11.940000   27.400000   37.970000   \n",
       "\n",
       "       n_hos_beds  n_hot_rooms    rainfall       parks    avg_dist  \n",
       "count  506.000000   506.000000  506.000000  506.000000  506.000000  \n",
       "mean     7.899767    13.041605   39.181818    0.054454    3.795104  \n",
       "std      1.464939     5.238957   12.513697    0.010632    2.105859  \n",
       "min      5.268000    10.057600    3.000000    0.033292    1.127500  \n",
       "25%      6.659000    11.189800   28.000000    0.046464    2.100625  \n",
       "50%      7.963000    12.720000   39.000000    0.053507    3.207500  \n",
       "75%      9.076000    14.170800   50.000000    0.061397    5.187500  \n",
       "max     10.876000   101.120000   60.000000    0.086711   12.127500  "
      ]
     },
     "execution_count": 42,
     "metadata": {},
     "output_type": "execute_result"
    }
   ],
   "source": [
    "df.describe()"
   ]
  },
  {
   "cell_type": "code",
   "execution_count": 43,
   "id": "70f464aa",
   "metadata": {},
   "outputs": [],
   "source": [
    "del df['dist1']"
   ]
  },
  {
   "cell_type": "code",
   "execution_count": 44,
   "id": "cda09e5f",
   "metadata": {},
   "outputs": [],
   "source": [
    "del df['dist2']"
   ]
  },
  {
   "cell_type": "code",
   "execution_count": 45,
   "id": "f9b09af5",
   "metadata": {},
   "outputs": [],
   "source": [
    "del df['dist3']"
   ]
  },
  {
   "cell_type": "code",
   "execution_count": 46,
   "id": "c384996b",
   "metadata": {},
   "outputs": [],
   "source": [
    "del df['dist4']"
   ]
  },
  {
   "cell_type": "code",
   "execution_count": 47,
   "id": "25a84840",
   "metadata": {},
   "outputs": [
    {
     "data": {
      "text/html": [
       "<div>\n",
       "<style scoped>\n",
       "    .dataframe tbody tr th:only-of-type {\n",
       "        vertical-align: middle;\n",
       "    }\n",
       "\n",
       "    .dataframe tbody tr th {\n",
       "        vertical-align: top;\n",
       "    }\n",
       "\n",
       "    .dataframe thead th {\n",
       "        text-align: right;\n",
       "    }\n",
       "</style>\n",
       "<table border=\"1\" class=\"dataframe\">\n",
       "  <thead>\n",
       "    <tr style=\"text-align: right;\">\n",
       "      <th></th>\n",
       "      <th>price</th>\n",
       "      <th>crime_rate</th>\n",
       "      <th>resid_area</th>\n",
       "      <th>air_qual</th>\n",
       "      <th>room_num</th>\n",
       "      <th>age</th>\n",
       "      <th>teachers</th>\n",
       "      <th>poor_prop</th>\n",
       "      <th>n_hos_beds</th>\n",
       "      <th>n_hot_rooms</th>\n",
       "      <th>rainfall</th>\n",
       "      <th>parks</th>\n",
       "      <th>avg_dist</th>\n",
       "    </tr>\n",
       "  </thead>\n",
       "  <tbody>\n",
       "    <tr>\n",
       "      <th>count</th>\n",
       "      <td>506.000000</td>\n",
       "      <td>506.000000</td>\n",
       "      <td>506.000000</td>\n",
       "      <td>506.000000</td>\n",
       "      <td>506.000000</td>\n",
       "      <td>506.000000</td>\n",
       "      <td>506.000000</td>\n",
       "      <td>506.000000</td>\n",
       "      <td>506.000000</td>\n",
       "      <td>506.000000</td>\n",
       "      <td>506.000000</td>\n",
       "      <td>506.000000</td>\n",
       "      <td>506.000000</td>\n",
       "    </tr>\n",
       "    <tr>\n",
       "      <th>mean</th>\n",
       "      <td>22.528854</td>\n",
       "      <td>0.813418</td>\n",
       "      <td>41.136779</td>\n",
       "      <td>0.554695</td>\n",
       "      <td>6.284634</td>\n",
       "      <td>68.574901</td>\n",
       "      <td>21.544466</td>\n",
       "      <td>12.653063</td>\n",
       "      <td>7.899767</td>\n",
       "      <td>13.041605</td>\n",
       "      <td>39.181818</td>\n",
       "      <td>0.054454</td>\n",
       "      <td>3.795104</td>\n",
       "    </tr>\n",
       "    <tr>\n",
       "      <th>std</th>\n",
       "      <td>9.182176</td>\n",
       "      <td>1.022731</td>\n",
       "      <td>6.860353</td>\n",
       "      <td>0.115878</td>\n",
       "      <td>0.702617</td>\n",
       "      <td>28.148861</td>\n",
       "      <td>2.164946</td>\n",
       "      <td>7.141062</td>\n",
       "      <td>1.464939</td>\n",
       "      <td>5.238957</td>\n",
       "      <td>12.513697</td>\n",
       "      <td>0.010632</td>\n",
       "      <td>2.105859</td>\n",
       "    </tr>\n",
       "    <tr>\n",
       "      <th>min</th>\n",
       "      <td>5.000000</td>\n",
       "      <td>0.006300</td>\n",
       "      <td>30.460000</td>\n",
       "      <td>0.385000</td>\n",
       "      <td>3.561000</td>\n",
       "      <td>2.900000</td>\n",
       "      <td>18.000000</td>\n",
       "      <td>1.730000</td>\n",
       "      <td>5.268000</td>\n",
       "      <td>10.057600</td>\n",
       "      <td>3.000000</td>\n",
       "      <td>0.033292</td>\n",
       "      <td>1.127500</td>\n",
       "    </tr>\n",
       "    <tr>\n",
       "      <th>25%</th>\n",
       "      <td>17.025000</td>\n",
       "      <td>0.078853</td>\n",
       "      <td>35.190000</td>\n",
       "      <td>0.449000</td>\n",
       "      <td>5.885500</td>\n",
       "      <td>45.025000</td>\n",
       "      <td>19.800000</td>\n",
       "      <td>6.950000</td>\n",
       "      <td>6.659000</td>\n",
       "      <td>11.189800</td>\n",
       "      <td>28.000000</td>\n",
       "      <td>0.046464</td>\n",
       "      <td>2.100625</td>\n",
       "    </tr>\n",
       "    <tr>\n",
       "      <th>50%</th>\n",
       "      <td>21.200000</td>\n",
       "      <td>0.228336</td>\n",
       "      <td>39.690000</td>\n",
       "      <td>0.538000</td>\n",
       "      <td>6.208500</td>\n",
       "      <td>77.500000</td>\n",
       "      <td>20.950000</td>\n",
       "      <td>11.360000</td>\n",
       "      <td>7.963000</td>\n",
       "      <td>12.720000</td>\n",
       "      <td>39.000000</td>\n",
       "      <td>0.053507</td>\n",
       "      <td>3.207500</td>\n",
       "    </tr>\n",
       "    <tr>\n",
       "      <th>75%</th>\n",
       "      <td>25.000000</td>\n",
       "      <td>1.542674</td>\n",
       "      <td>48.100000</td>\n",
       "      <td>0.624000</td>\n",
       "      <td>6.623500</td>\n",
       "      <td>94.075000</td>\n",
       "      <td>22.600000</td>\n",
       "      <td>16.955000</td>\n",
       "      <td>9.076000</td>\n",
       "      <td>14.170800</td>\n",
       "      <td>50.000000</td>\n",
       "      <td>0.061397</td>\n",
       "      <td>5.187500</td>\n",
       "    </tr>\n",
       "    <tr>\n",
       "      <th>max</th>\n",
       "      <td>50.000000</td>\n",
       "      <td>4.499545</td>\n",
       "      <td>57.740000</td>\n",
       "      <td>0.871000</td>\n",
       "      <td>8.780000</td>\n",
       "      <td>100.000000</td>\n",
       "      <td>27.400000</td>\n",
       "      <td>37.970000</td>\n",
       "      <td>10.876000</td>\n",
       "      <td>101.120000</td>\n",
       "      <td>60.000000</td>\n",
       "      <td>0.086711</td>\n",
       "      <td>12.127500</td>\n",
       "    </tr>\n",
       "  </tbody>\n",
       "</table>\n",
       "</div>"
      ],
      "text/plain": [
       "            price  crime_rate  resid_area    air_qual    room_num         age  \\\n",
       "count  506.000000  506.000000  506.000000  506.000000  506.000000  506.000000   \n",
       "mean    22.528854    0.813418   41.136779    0.554695    6.284634   68.574901   \n",
       "std      9.182176    1.022731    6.860353    0.115878    0.702617   28.148861   \n",
       "min      5.000000    0.006300   30.460000    0.385000    3.561000    2.900000   \n",
       "25%     17.025000    0.078853   35.190000    0.449000    5.885500   45.025000   \n",
       "50%     21.200000    0.228336   39.690000    0.538000    6.208500   77.500000   \n",
       "75%     25.000000    1.542674   48.100000    0.624000    6.623500   94.075000   \n",
       "max     50.000000    4.499545   57.740000    0.871000    8.780000  100.000000   \n",
       "\n",
       "         teachers   poor_prop  n_hos_beds  n_hot_rooms    rainfall  \\\n",
       "count  506.000000  506.000000  506.000000   506.000000  506.000000   \n",
       "mean    21.544466   12.653063    7.899767    13.041605   39.181818   \n",
       "std      2.164946    7.141062    1.464939     5.238957   12.513697   \n",
       "min     18.000000    1.730000    5.268000    10.057600    3.000000   \n",
       "25%     19.800000    6.950000    6.659000    11.189800   28.000000   \n",
       "50%     20.950000   11.360000    7.963000    12.720000   39.000000   \n",
       "75%     22.600000   16.955000    9.076000    14.170800   50.000000   \n",
       "max     27.400000   37.970000   10.876000   101.120000   60.000000   \n",
       "\n",
       "            parks    avg_dist  \n",
       "count  506.000000  506.000000  \n",
       "mean     0.054454    3.795104  \n",
       "std      0.010632    2.105859  \n",
       "min      0.033292    1.127500  \n",
       "25%      0.046464    2.100625  \n",
       "50%      0.053507    3.207500  \n",
       "75%      0.061397    5.187500  \n",
       "max      0.086711   12.127500  "
      ]
     },
     "execution_count": 47,
     "metadata": {},
     "output_type": "execute_result"
    }
   ],
   "source": [
    "df.describe()"
   ]
  },
  {
   "cell_type": "code",
   "execution_count": 48,
   "id": "0587b9dd",
   "metadata": {},
   "outputs": [],
   "source": [
    "del df['bus_ter']"
   ]
  },
  {
   "cell_type": "code",
   "execution_count": 50,
   "id": "392546fd",
   "metadata": {},
   "outputs": [
    {
     "data": {
      "text/html": [
       "<div>\n",
       "<style scoped>\n",
       "    .dataframe tbody tr th:only-of-type {\n",
       "        vertical-align: middle;\n",
       "    }\n",
       "\n",
       "    .dataframe tbody tr th {\n",
       "        vertical-align: top;\n",
       "    }\n",
       "\n",
       "    .dataframe thead th {\n",
       "        text-align: right;\n",
       "    }\n",
       "</style>\n",
       "<table border=\"1\" class=\"dataframe\">\n",
       "  <thead>\n",
       "    <tr style=\"text-align: right;\">\n",
       "      <th></th>\n",
       "      <th>price</th>\n",
       "      <th>crime_rate</th>\n",
       "      <th>resid_area</th>\n",
       "      <th>air_qual</th>\n",
       "      <th>room_num</th>\n",
       "      <th>age</th>\n",
       "      <th>teachers</th>\n",
       "      <th>poor_prop</th>\n",
       "      <th>airport</th>\n",
       "      <th>n_hos_beds</th>\n",
       "      <th>n_hot_rooms</th>\n",
       "      <th>waterbody</th>\n",
       "      <th>rainfall</th>\n",
       "      <th>parks</th>\n",
       "      <th>avg_dist</th>\n",
       "    </tr>\n",
       "  </thead>\n",
       "  <tbody>\n",
       "    <tr>\n",
       "      <th>0</th>\n",
       "      <td>24.0</td>\n",
       "      <td>0.006300</td>\n",
       "      <td>32.31</td>\n",
       "      <td>0.538</td>\n",
       "      <td>6.575</td>\n",
       "      <td>65.2</td>\n",
       "      <td>24.7</td>\n",
       "      <td>4.98</td>\n",
       "      <td>YES</td>\n",
       "      <td>5.480</td>\n",
       "      <td>11.1920</td>\n",
       "      <td>River</td>\n",
       "      <td>23</td>\n",
       "      <td>0.049347</td>\n",
       "      <td>4.0875</td>\n",
       "    </tr>\n",
       "    <tr>\n",
       "      <th>1</th>\n",
       "      <td>21.6</td>\n",
       "      <td>0.026944</td>\n",
       "      <td>37.07</td>\n",
       "      <td>0.469</td>\n",
       "      <td>6.421</td>\n",
       "      <td>78.9</td>\n",
       "      <td>22.2</td>\n",
       "      <td>9.14</td>\n",
       "      <td>NO</td>\n",
       "      <td>7.332</td>\n",
       "      <td>12.1728</td>\n",
       "      <td>Lake</td>\n",
       "      <td>42</td>\n",
       "      <td>0.046146</td>\n",
       "      <td>4.9675</td>\n",
       "    </tr>\n",
       "    <tr>\n",
       "      <th>2</th>\n",
       "      <td>34.7</td>\n",
       "      <td>0.026924</td>\n",
       "      <td>37.07</td>\n",
       "      <td>0.469</td>\n",
       "      <td>7.185</td>\n",
       "      <td>61.1</td>\n",
       "      <td>22.2</td>\n",
       "      <td>4.03</td>\n",
       "      <td>NO</td>\n",
       "      <td>7.394</td>\n",
       "      <td>101.1200</td>\n",
       "      <td>None</td>\n",
       "      <td>38</td>\n",
       "      <td>0.045764</td>\n",
       "      <td>4.9675</td>\n",
       "    </tr>\n",
       "    <tr>\n",
       "      <th>3</th>\n",
       "      <td>33.4</td>\n",
       "      <td>0.031857</td>\n",
       "      <td>32.18</td>\n",
       "      <td>0.458</td>\n",
       "      <td>6.998</td>\n",
       "      <td>45.8</td>\n",
       "      <td>21.3</td>\n",
       "      <td>2.94</td>\n",
       "      <td>YES</td>\n",
       "      <td>9.268</td>\n",
       "      <td>11.2672</td>\n",
       "      <td>Lake</td>\n",
       "      <td>45</td>\n",
       "      <td>0.047151</td>\n",
       "      <td>6.0650</td>\n",
       "    </tr>\n",
       "    <tr>\n",
       "      <th>4</th>\n",
       "      <td>36.2</td>\n",
       "      <td>0.066770</td>\n",
       "      <td>32.18</td>\n",
       "      <td>0.458</td>\n",
       "      <td>7.147</td>\n",
       "      <td>54.2</td>\n",
       "      <td>21.3</td>\n",
       "      <td>5.33</td>\n",
       "      <td>NO</td>\n",
       "      <td>8.824</td>\n",
       "      <td>11.2896</td>\n",
       "      <td>Lake</td>\n",
       "      <td>55</td>\n",
       "      <td>0.039474</td>\n",
       "      <td>6.0625</td>\n",
       "    </tr>\n",
       "  </tbody>\n",
       "</table>\n",
       "</div>"
      ],
      "text/plain": [
       "   price  crime_rate  resid_area  air_qual  room_num   age  teachers  \\\n",
       "0   24.0    0.006300       32.31     0.538     6.575  65.2      24.7   \n",
       "1   21.6    0.026944       37.07     0.469     6.421  78.9      22.2   \n",
       "2   34.7    0.026924       37.07     0.469     7.185  61.1      22.2   \n",
       "3   33.4    0.031857       32.18     0.458     6.998  45.8      21.3   \n",
       "4   36.2    0.066770       32.18     0.458     7.147  54.2      21.3   \n",
       "\n",
       "   poor_prop airport  n_hos_beds  n_hot_rooms waterbody  rainfall     parks  \\\n",
       "0       4.98     YES       5.480      11.1920     River        23  0.049347   \n",
       "1       9.14      NO       7.332      12.1728      Lake        42  0.046146   \n",
       "2       4.03      NO       7.394     101.1200      None        38  0.045764   \n",
       "3       2.94     YES       9.268      11.2672      Lake        45  0.047151   \n",
       "4       5.33      NO       8.824      11.2896      Lake        55  0.039474   \n",
       "\n",
       "   avg_dist  \n",
       "0    4.0875  \n",
       "1    4.9675  \n",
       "2    4.9675  \n",
       "3    6.0650  \n",
       "4    6.0625  "
      ]
     },
     "execution_count": 50,
     "metadata": {},
     "output_type": "execute_result"
    }
   ],
   "source": [
    "df.head()"
   ]
  },
  {
   "cell_type": "code",
   "execution_count": 51,
   "id": "02921e8e",
   "metadata": {},
   "outputs": [],
   "source": [
    "df = pd.get_dummies(df)"
   ]
  },
  {
   "cell_type": "code",
   "execution_count": 53,
   "id": "89d560eb",
   "metadata": {},
   "outputs": [
    {
     "data": {
      "text/html": [
       "<div>\n",
       "<style scoped>\n",
       "    .dataframe tbody tr th:only-of-type {\n",
       "        vertical-align: middle;\n",
       "    }\n",
       "\n",
       "    .dataframe tbody tr th {\n",
       "        vertical-align: top;\n",
       "    }\n",
       "\n",
       "    .dataframe thead th {\n",
       "        text-align: right;\n",
       "    }\n",
       "</style>\n",
       "<table border=\"1\" class=\"dataframe\">\n",
       "  <thead>\n",
       "    <tr style=\"text-align: right;\">\n",
       "      <th></th>\n",
       "      <th>price</th>\n",
       "      <th>crime_rate</th>\n",
       "      <th>resid_area</th>\n",
       "      <th>air_qual</th>\n",
       "      <th>room_num</th>\n",
       "      <th>age</th>\n",
       "      <th>teachers</th>\n",
       "      <th>poor_prop</th>\n",
       "      <th>n_hos_beds</th>\n",
       "      <th>n_hot_rooms</th>\n",
       "      <th>rainfall</th>\n",
       "      <th>parks</th>\n",
       "      <th>avg_dist</th>\n",
       "      <th>airport_NO</th>\n",
       "      <th>airport_YES</th>\n",
       "      <th>waterbody_Lake</th>\n",
       "      <th>waterbody_Lake and River</th>\n",
       "      <th>waterbody_None</th>\n",
       "      <th>waterbody_River</th>\n",
       "    </tr>\n",
       "  </thead>\n",
       "  <tbody>\n",
       "    <tr>\n",
       "      <th>0</th>\n",
       "      <td>24.0</td>\n",
       "      <td>0.006300</td>\n",
       "      <td>32.31</td>\n",
       "      <td>0.538</td>\n",
       "      <td>6.575</td>\n",
       "      <td>65.2</td>\n",
       "      <td>24.7</td>\n",
       "      <td>4.98</td>\n",
       "      <td>5.480</td>\n",
       "      <td>11.1920</td>\n",
       "      <td>23</td>\n",
       "      <td>0.049347</td>\n",
       "      <td>4.0875</td>\n",
       "      <td>0</td>\n",
       "      <td>1</td>\n",
       "      <td>0</td>\n",
       "      <td>0</td>\n",
       "      <td>0</td>\n",
       "      <td>1</td>\n",
       "    </tr>\n",
       "    <tr>\n",
       "      <th>1</th>\n",
       "      <td>21.6</td>\n",
       "      <td>0.026944</td>\n",
       "      <td>37.07</td>\n",
       "      <td>0.469</td>\n",
       "      <td>6.421</td>\n",
       "      <td>78.9</td>\n",
       "      <td>22.2</td>\n",
       "      <td>9.14</td>\n",
       "      <td>7.332</td>\n",
       "      <td>12.1728</td>\n",
       "      <td>42</td>\n",
       "      <td>0.046146</td>\n",
       "      <td>4.9675</td>\n",
       "      <td>1</td>\n",
       "      <td>0</td>\n",
       "      <td>1</td>\n",
       "      <td>0</td>\n",
       "      <td>0</td>\n",
       "      <td>0</td>\n",
       "    </tr>\n",
       "    <tr>\n",
       "      <th>2</th>\n",
       "      <td>34.7</td>\n",
       "      <td>0.026924</td>\n",
       "      <td>37.07</td>\n",
       "      <td>0.469</td>\n",
       "      <td>7.185</td>\n",
       "      <td>61.1</td>\n",
       "      <td>22.2</td>\n",
       "      <td>4.03</td>\n",
       "      <td>7.394</td>\n",
       "      <td>101.1200</td>\n",
       "      <td>38</td>\n",
       "      <td>0.045764</td>\n",
       "      <td>4.9675</td>\n",
       "      <td>1</td>\n",
       "      <td>0</td>\n",
       "      <td>0</td>\n",
       "      <td>0</td>\n",
       "      <td>1</td>\n",
       "      <td>0</td>\n",
       "    </tr>\n",
       "    <tr>\n",
       "      <th>3</th>\n",
       "      <td>33.4</td>\n",
       "      <td>0.031857</td>\n",
       "      <td>32.18</td>\n",
       "      <td>0.458</td>\n",
       "      <td>6.998</td>\n",
       "      <td>45.8</td>\n",
       "      <td>21.3</td>\n",
       "      <td>2.94</td>\n",
       "      <td>9.268</td>\n",
       "      <td>11.2672</td>\n",
       "      <td>45</td>\n",
       "      <td>0.047151</td>\n",
       "      <td>6.0650</td>\n",
       "      <td>0</td>\n",
       "      <td>1</td>\n",
       "      <td>1</td>\n",
       "      <td>0</td>\n",
       "      <td>0</td>\n",
       "      <td>0</td>\n",
       "    </tr>\n",
       "    <tr>\n",
       "      <th>4</th>\n",
       "      <td>36.2</td>\n",
       "      <td>0.066770</td>\n",
       "      <td>32.18</td>\n",
       "      <td>0.458</td>\n",
       "      <td>7.147</td>\n",
       "      <td>54.2</td>\n",
       "      <td>21.3</td>\n",
       "      <td>5.33</td>\n",
       "      <td>8.824</td>\n",
       "      <td>11.2896</td>\n",
       "      <td>55</td>\n",
       "      <td>0.039474</td>\n",
       "      <td>6.0625</td>\n",
       "      <td>1</td>\n",
       "      <td>0</td>\n",
       "      <td>1</td>\n",
       "      <td>0</td>\n",
       "      <td>0</td>\n",
       "      <td>0</td>\n",
       "    </tr>\n",
       "  </tbody>\n",
       "</table>\n",
       "</div>"
      ],
      "text/plain": [
       "   price  crime_rate  resid_area  air_qual  room_num   age  teachers  \\\n",
       "0   24.0    0.006300       32.31     0.538     6.575  65.2      24.7   \n",
       "1   21.6    0.026944       37.07     0.469     6.421  78.9      22.2   \n",
       "2   34.7    0.026924       37.07     0.469     7.185  61.1      22.2   \n",
       "3   33.4    0.031857       32.18     0.458     6.998  45.8      21.3   \n",
       "4   36.2    0.066770       32.18     0.458     7.147  54.2      21.3   \n",
       "\n",
       "   poor_prop  n_hos_beds  n_hot_rooms  rainfall     parks  avg_dist  \\\n",
       "0       4.98       5.480      11.1920        23  0.049347    4.0875   \n",
       "1       9.14       7.332      12.1728        42  0.046146    4.9675   \n",
       "2       4.03       7.394     101.1200        38  0.045764    4.9675   \n",
       "3       2.94       9.268      11.2672        45  0.047151    6.0650   \n",
       "4       5.33       8.824      11.2896        55  0.039474    6.0625   \n",
       "\n",
       "   airport_NO  airport_YES  waterbody_Lake  waterbody_Lake and River  \\\n",
       "0           0            1               0                         0   \n",
       "1           1            0               1                         0   \n",
       "2           1            0               0                         0   \n",
       "3           0            1               1                         0   \n",
       "4           1            0               1                         0   \n",
       "\n",
       "   waterbody_None  waterbody_River  \n",
       "0               0                1  \n",
       "1               0                0  \n",
       "2               1                0  \n",
       "3               0                0  \n",
       "4               0                0  "
      ]
     },
     "execution_count": 53,
     "metadata": {},
     "output_type": "execute_result"
    }
   ],
   "source": [
    "df.head()"
   ]
  },
  {
   "cell_type": "markdown",
   "id": "85ea2119",
   "metadata": {},
   "source": [
    "# Dummies Variables"
   ]
  },
  {
   "cell_type": "code",
   "execution_count": 54,
   "id": "5f48168f",
   "metadata": {},
   "outputs": [],
   "source": [
    "del df['airport_NO']"
   ]
  },
  {
   "cell_type": "code",
   "execution_count": 55,
   "id": "24cc0cc8",
   "metadata": {},
   "outputs": [],
   "source": [
    "del df['waterbody_None']"
   ]
  },
  {
   "cell_type": "code",
   "execution_count": 56,
   "id": "c58577a6",
   "metadata": {},
   "outputs": [
    {
     "data": {
      "text/html": [
       "<div>\n",
       "<style scoped>\n",
       "    .dataframe tbody tr th:only-of-type {\n",
       "        vertical-align: middle;\n",
       "    }\n",
       "\n",
       "    .dataframe tbody tr th {\n",
       "        vertical-align: top;\n",
       "    }\n",
       "\n",
       "    .dataframe thead th {\n",
       "        text-align: right;\n",
       "    }\n",
       "</style>\n",
       "<table border=\"1\" class=\"dataframe\">\n",
       "  <thead>\n",
       "    <tr style=\"text-align: right;\">\n",
       "      <th></th>\n",
       "      <th>price</th>\n",
       "      <th>crime_rate</th>\n",
       "      <th>resid_area</th>\n",
       "      <th>air_qual</th>\n",
       "      <th>room_num</th>\n",
       "      <th>age</th>\n",
       "      <th>teachers</th>\n",
       "      <th>poor_prop</th>\n",
       "      <th>n_hos_beds</th>\n",
       "      <th>n_hot_rooms</th>\n",
       "      <th>rainfall</th>\n",
       "      <th>parks</th>\n",
       "      <th>avg_dist</th>\n",
       "      <th>airport_YES</th>\n",
       "      <th>waterbody_Lake</th>\n",
       "      <th>waterbody_Lake and River</th>\n",
       "      <th>waterbody_River</th>\n",
       "    </tr>\n",
       "  </thead>\n",
       "  <tbody>\n",
       "    <tr>\n",
       "      <th>0</th>\n",
       "      <td>24.0</td>\n",
       "      <td>0.006300</td>\n",
       "      <td>32.31</td>\n",
       "      <td>0.538</td>\n",
       "      <td>6.575</td>\n",
       "      <td>65.2</td>\n",
       "      <td>24.7</td>\n",
       "      <td>4.98</td>\n",
       "      <td>5.480</td>\n",
       "      <td>11.1920</td>\n",
       "      <td>23</td>\n",
       "      <td>0.049347</td>\n",
       "      <td>4.0875</td>\n",
       "      <td>1</td>\n",
       "      <td>0</td>\n",
       "      <td>0</td>\n",
       "      <td>1</td>\n",
       "    </tr>\n",
       "    <tr>\n",
       "      <th>1</th>\n",
       "      <td>21.6</td>\n",
       "      <td>0.026944</td>\n",
       "      <td>37.07</td>\n",
       "      <td>0.469</td>\n",
       "      <td>6.421</td>\n",
       "      <td>78.9</td>\n",
       "      <td>22.2</td>\n",
       "      <td>9.14</td>\n",
       "      <td>7.332</td>\n",
       "      <td>12.1728</td>\n",
       "      <td>42</td>\n",
       "      <td>0.046146</td>\n",
       "      <td>4.9675</td>\n",
       "      <td>0</td>\n",
       "      <td>1</td>\n",
       "      <td>0</td>\n",
       "      <td>0</td>\n",
       "    </tr>\n",
       "    <tr>\n",
       "      <th>2</th>\n",
       "      <td>34.7</td>\n",
       "      <td>0.026924</td>\n",
       "      <td>37.07</td>\n",
       "      <td>0.469</td>\n",
       "      <td>7.185</td>\n",
       "      <td>61.1</td>\n",
       "      <td>22.2</td>\n",
       "      <td>4.03</td>\n",
       "      <td>7.394</td>\n",
       "      <td>101.1200</td>\n",
       "      <td>38</td>\n",
       "      <td>0.045764</td>\n",
       "      <td>4.9675</td>\n",
       "      <td>0</td>\n",
       "      <td>0</td>\n",
       "      <td>0</td>\n",
       "      <td>0</td>\n",
       "    </tr>\n",
       "    <tr>\n",
       "      <th>3</th>\n",
       "      <td>33.4</td>\n",
       "      <td>0.031857</td>\n",
       "      <td>32.18</td>\n",
       "      <td>0.458</td>\n",
       "      <td>6.998</td>\n",
       "      <td>45.8</td>\n",
       "      <td>21.3</td>\n",
       "      <td>2.94</td>\n",
       "      <td>9.268</td>\n",
       "      <td>11.2672</td>\n",
       "      <td>45</td>\n",
       "      <td>0.047151</td>\n",
       "      <td>6.0650</td>\n",
       "      <td>1</td>\n",
       "      <td>1</td>\n",
       "      <td>0</td>\n",
       "      <td>0</td>\n",
       "    </tr>\n",
       "    <tr>\n",
       "      <th>4</th>\n",
       "      <td>36.2</td>\n",
       "      <td>0.066770</td>\n",
       "      <td>32.18</td>\n",
       "      <td>0.458</td>\n",
       "      <td>7.147</td>\n",
       "      <td>54.2</td>\n",
       "      <td>21.3</td>\n",
       "      <td>5.33</td>\n",
       "      <td>8.824</td>\n",
       "      <td>11.2896</td>\n",
       "      <td>55</td>\n",
       "      <td>0.039474</td>\n",
       "      <td>6.0625</td>\n",
       "      <td>0</td>\n",
       "      <td>1</td>\n",
       "      <td>0</td>\n",
       "      <td>0</td>\n",
       "    </tr>\n",
       "  </tbody>\n",
       "</table>\n",
       "</div>"
      ],
      "text/plain": [
       "   price  crime_rate  resid_area  air_qual  room_num   age  teachers  \\\n",
       "0   24.0    0.006300       32.31     0.538     6.575  65.2      24.7   \n",
       "1   21.6    0.026944       37.07     0.469     6.421  78.9      22.2   \n",
       "2   34.7    0.026924       37.07     0.469     7.185  61.1      22.2   \n",
       "3   33.4    0.031857       32.18     0.458     6.998  45.8      21.3   \n",
       "4   36.2    0.066770       32.18     0.458     7.147  54.2      21.3   \n",
       "\n",
       "   poor_prop  n_hos_beds  n_hot_rooms  rainfall     parks  avg_dist  \\\n",
       "0       4.98       5.480      11.1920        23  0.049347    4.0875   \n",
       "1       9.14       7.332      12.1728        42  0.046146    4.9675   \n",
       "2       4.03       7.394     101.1200        38  0.045764    4.9675   \n",
       "3       2.94       9.268      11.2672        45  0.047151    6.0650   \n",
       "4       5.33       8.824      11.2896        55  0.039474    6.0625   \n",
       "\n",
       "   airport_YES  waterbody_Lake  waterbody_Lake and River  waterbody_River  \n",
       "0            1               0                         0                1  \n",
       "1            0               1                         0                0  \n",
       "2            0               0                         0                0  \n",
       "3            1               1                         0                0  \n",
       "4            0               1                         0                0  "
      ]
     },
     "execution_count": 56,
     "metadata": {},
     "output_type": "execute_result"
    }
   ],
   "source": [
    "df.head()"
   ]
  },
  {
   "cell_type": "markdown",
   "id": "a7cb0101",
   "metadata": {},
   "source": [
    "# Test-Train Score error and variance"
   ]
  },
  {
   "cell_type": "code",
   "execution_count": 76,
   "id": "c766ef7c",
   "metadata": {},
   "outputs": [],
   "source": [
    "import numpy as np\n",
    "from sklearn.linear_model import LinearRegression"
   ]
  },
  {
   "cell_type": "code",
   "execution_count": 79,
   "id": "7690bc62",
   "metadata": {},
   "outputs": [],
   "source": [
    "X_train_full, X_test, y_train_full, y_test = train_test_split(housing.data, housing.target, random_state=24)"
   ]
  },
  {
   "cell_type": "code",
   "execution_count": 77,
   "id": "4faa3adc",
   "metadata": {},
   "outputs": [],
   "source": [
    "lm3 = LinearRegression()"
   ]
  },
  {
   "cell_type": "code",
   "execution_count": 81,
   "id": "0671b260",
   "metadata": {},
   "outputs": [
    {
     "data": {
      "text/plain": [
       "LinearRegression()"
      ]
     },
     "execution_count": 81,
     "metadata": {},
     "output_type": "execute_result"
    }
   ],
   "source": [
    "lm3.fit(X_train_full, y_train_full)"
   ]
  },
  {
   "cell_type": "code",
   "execution_count": 83,
   "id": "a3fd6cfe",
   "metadata": {},
   "outputs": [],
   "source": [
    "#print(lm3.intercept, lm3.coef_)"
   ]
  },
  {
   "cell_type": "code",
   "execution_count": null,
   "id": "a4136f75",
   "metadata": {},
   "outputs": [],
   "source": [
    "import sklearn\n",
    "from sklearn.model_selection import train_test_split"
   ]
  },
  {
   "cell_type": "code",
   "execution_count": 84,
   "id": "96527ef1",
   "metadata": {},
   "outputs": [],
   "source": [
    "X_train, X_test, y_train, y_test = train_test_split(X_train_full,\n",
    "                                                    y_train_full, test_size = 0.2, random_state=0)"
   ]
  },
  {
   "cell_type": "code",
   "execution_count": 86,
   "id": "8cec6f3c",
   "metadata": {},
   "outputs": [
    {
     "name": "stdout",
     "output_type": "stream",
     "text": [
      "(12384, 8) (3096, 8) (12384,) (3096,)\n"
     ]
    }
   ],
   "source": [
    "print(X_train.shape, X_test.shape, y_train.shape, y_test.shape)"
   ]
  },
  {
   "cell_type": "code",
   "execution_count": 87,
   "id": "14fc9ed8",
   "metadata": {},
   "outputs": [],
   "source": [
    "lm_a = LinearRegression()"
   ]
  },
  {
   "cell_type": "code",
   "execution_count": 88,
   "id": "c964c286",
   "metadata": {},
   "outputs": [
    {
     "data": {
      "text/plain": [
       "LinearRegression()"
      ]
     },
     "execution_count": 88,
     "metadata": {},
     "output_type": "execute_result"
    }
   ],
   "source": [
    "lm_a.fit(X_train, y_train)"
   ]
  },
  {
   "cell_type": "code",
   "execution_count": 89,
   "id": "dee6f1a5",
   "metadata": {},
   "outputs": [],
   "source": [
    "y_test_a = lm_a.predict(X_test)"
   ]
  },
  {
   "cell_type": "code",
   "execution_count": 90,
   "id": "43241285",
   "metadata": {},
   "outputs": [],
   "source": [
    "y_train_a = lm_a.predict(X_train)"
   ]
  },
  {
   "cell_type": "code",
   "execution_count": 91,
   "id": "8bf38d48",
   "metadata": {},
   "outputs": [],
   "source": [
    "from sklearn.metrics import r2_score"
   ]
  },
  {
   "cell_type": "code",
   "execution_count": 92,
   "id": "4b09c1dc",
   "metadata": {},
   "outputs": [],
   "source": [
    "r2_score?"
   ]
  },
  {
   "cell_type": "code",
   "execution_count": 93,
   "id": "5b6b1108",
   "metadata": {},
   "outputs": [
    {
     "data": {
      "text/plain": [
       "0.597475749091264"
      ]
     },
     "execution_count": 93,
     "metadata": {},
     "output_type": "execute_result"
    }
   ],
   "source": [
    "r2_score(y_test, y_test_a)"
   ]
  },
  {
   "cell_type": "code",
   "execution_count": 94,
   "id": "e698239e",
   "metadata": {},
   "outputs": [
    {
     "data": {
      "text/plain": [
       "0.6062824736575858"
      ]
     },
     "execution_count": 94,
     "metadata": {},
     "output_type": "execute_result"
    }
   ],
   "source": [
    "r2_score(y_train, y_train_a)"
   ]
  },
  {
   "cell_type": "code",
   "execution_count": null,
   "id": "8e7ce739",
   "metadata": {},
   "outputs": [],
   "source": []
  }
 ],
 "metadata": {
  "kernelspec": {
   "display_name": "Python 3 (ipykernel)",
   "language": "python",
   "name": "python3"
  },
  "language_info": {
   "codemirror_mode": {
    "name": "ipython",
    "version": 3
   },
   "file_extension": ".py",
   "mimetype": "text/x-python",
   "name": "python",
   "nbconvert_exporter": "python",
   "pygments_lexer": "ipython3",
   "version": "3.9.7"
  }
 },
 "nbformat": 4,
 "nbformat_minor": 5
}
